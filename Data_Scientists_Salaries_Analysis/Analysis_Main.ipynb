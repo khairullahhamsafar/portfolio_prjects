{
 "cells": [
  {
   "cell_type": "markdown",
   "metadata": {},
   "source": [
    "<a id=\"header\"></a>\n",
    "<div style=\"border: 1px solid; color: #fff600; background-color: #fff600;\">\n",
    "    <center><img src=\"https://raw.githubusercontent.com/khairullahhamsafar/portfolio_prjects/main/Data_Scientists_Salaries_Analysis/img/Data_Scientists_Salaries_02.png\"></center>\n",
    "    <div style=\"border: 5px solid; color: #19a01a; border-radius: 5px; margin: 10px; padding: 15px;\">\n",
    "        <h1 style=\"font-size: 26px; color: #19a01a; text-align: center; font-weight: bold; font-family: Blogger Sans; line-height: 28px;\">&#128202; Data Scientists Salaries Trends in Global Industries 2021-23 &#128176;</h1>\n",
    "        <h1 style=\"font-size: 26px; color: #19a01a; text-align: center; font-weight: bold; font-family: Blogger Sans; line-height: 28px;\">&#128293; End-to-End Data Analysis Project from Scratch &#128153;</h1>\n",
    "    </div>\n",
    "</div>\n",
    "<br/>"
   ]
  },
  {
   "cell_type": "markdown",
   "metadata": {
    "papermill": {
     "duration": 0.019513,
     "end_time": "2023-08-26T05:50:42.526061",
     "exception": false,
     "start_time": "2023-08-26T05:50:42.506548",
     "status": "completed"
    },
    "tags": []
   },
   "source": [
    "<a id=\"top\"></a>"
   ]
  },
  {
   "cell_type": "markdown",
   "metadata": {},
   "source": [
    "<div style=\"border: 1px solid; color: #cd2c39;\">\n",
    "    \n",
    "<div style=\"border: 1px solid; color: #cd2c39; background-color: #cd2c39;\">\n",
    "    <h1 style=\"font-size: 26px; color: #fff600; text-align: justify; font-family: Blogger Sans; font-weight: bold; margin: 10px; border: 5px solid; border-radius: 5px; padding: 15px;\">\n",
    "    &#128221; Table of Content\n",
    "        </h1>\n",
    "</div>\n",
    "    \n",
    "<ol>\n",
    "    <li style=\"font-size: 20px; color: #146EB4; text-align: justify; text-decoration: none; font-family: Calibri (Body); margin: 20px;\">\n",
    "        <a style=\"text-decoration: none; color: inherit; cursor: pointer;\" href=\"#1\">Introduction</a>\n",
    "    </li>\n",
    "    <li style=\"font-size: 20px; color: #146EB4; text-align: justify; text-decoration: none; font-family: Calibri (Body); margin: 20px;\">\n",
    "        <a style=\"text-decoration: none; color: inherit; cursor: pointer;\" href=\"#2\">Objectives and Problem Statements</a>\n",
    "    </li>\n",
    "    <li style=\"font-size: 20px; color: #146EB4; text-align: justify; text-decoration: none; font-family: Calibri (Body); margin: 20px;\">\n",
    "        <a style=\"text-decoration: none; color: inherit; cursor: pointer;\" href=\"#3\">Loading Data and Libraries</a>\n",
    "    </li>\n",
    "    <li style=\"font-size: 20px; color: #146EB4; text-align: justify; text-decoration: none; font-family: Calibri (Body); margin: 20px;\">\n",
    "        <a style=\"text-decoration: none; color: inherit; cursor: pointer;\" href=\"#4\">Data Preprocessing and Exploratory Analysis (EDA)</a>\n",
    "    </li>\n",
    "    <li style=\"font-size: 20px; color: #146EB4; text-align: justify; text-decoration: none; font-family: Calibri (Body); margin: 20px;\">\n",
    "        <a style=\"text-decoration: none; color: inherit; cursor: pointer;\" href=\"#5\">Trends Visualization, and Insights Extraction</a>\n",
    "    </li>\n",
    "    <li style=\"font-size: 20px; color: #146EB4; text-align: justify; text-decoration: none; font-family: Calibri (Body); margin: 20px;\">\n",
    "        <a style=\"text-decoration: none; color: inherit; cursor: pointer;\" href=\"#6\">Final Results and Conclusion</a>\n",
    "    </li>\n",
    "    <li style=\"font-size: 20px; color: #146EB4; text-align: justify; text-decoration: none; font-family: Calibri (Body); margin: 20px;\">\n",
    "        <a style=\"text-decoration: none; color: inherit; cursor: pointer;\" href=\"#7\">Author: An Overview</a>\n",
    "    </li>\n",
    "</ol>\n",
    "</div>"
   ]
  },
  {
   "cell_type": "markdown",
   "metadata": {
    "papermill": {
     "duration": 0.018155,
     "end_time": "2023-08-26T05:50:42.599177",
     "exception": false,
     "start_time": "2023-08-26T05:50:42.581022",
     "status": "completed"
    },
    "tags": []
   },
   "source": [
    "<a id=\"1\"></a>\n",
    "<h1 style=\"background-color: #0d4987; font-size: 26px; color: #b1ff00; text-align: center; font-family: Blogger Sans; font-weight: bold; margin: 10px; border: 1px solid; border-color: #0d4987; border-radius: 1px; padding: 15px; border-radius: 8px 8px 0 0;\">1. Introduction</h1>\n",
    "\n",
    "<a id=\"1.1\"></a>\n",
    "<h2 style=\"font-family: Calibri (Body); font-size: 24px; font-weight: bold; text-decoration: none; text-transform: none; margin-bottom: 0em; letter-spacing: 2px; color: #0d4987; background-color: #ffffff;\">1.1 About Data</h2>\n",
    "\n",
    "<p style=\"font-size: 18px; font-weight: normal; font-family: Calibri (Body); text-align: justify; line-height: 30px; letter-spacing: 1px; color: #0d4987;\">This dataset aims to shed light on the salary trends in the field of Data Science for the years 2021 to 2023. With a focus on various aspects of employment, including work experience, job titles, and company locations, this dataset provides valuable insights into salary distributions within the industry.</p>"
   ]
  },
  {
   "cell_type": "markdown",
   "metadata": {},
   "source": [
    "<a id=\"1.2\"></a>\n",
    "<h2 style=\"font-family: Calibri (Body); font-size: 24px; font-weight: bold; text-decoration: none; text-transform: none; margin-bottom: 0em; letter-spacing: 2px; color: #0d4987; background-color: #ffffff;\">1.2. Data Description</h2>"
   ]
  },
  {
   "cell_type": "markdown",
   "metadata": {},
   "source": [
    "<table style=\"width: 100%; border: 1px solid; border-color: black; border-collapse: collapse;\">\n",
    "  <thead>\n",
    "    <tr>\n",
    "      <th style=\"min-width: 50px; width: 70px; background-color: #19a01a; color: white; font-size :15px; font-weight: bold; text-align: left; padding: 8px; border: 1px solid; border-color: black;\">S. No</th>\n",
    "      <th style=\"background-color: #19a01a; color: white; font-size :15px; font-weight: bold; text-align: left; padding: 8px; border: 1px solid; border-color: black;\">Feature Name</th>\n",
    "      <th style=\"background-color: #19a01a; color: white; font-size :15px; font-weight: bold; text-align: left; padding: 8px; border: 1px solid; border-color: black;\">Description</th>\n",
    "    </tr>\n",
    "  </thead>\n",
    "  <tbody>\n",
    "    <tr>\n",
    "      <td style=\"font-weight: bold; font-size: 14px; color: #e81123; text-align: left; border: 1px solid; border-color: black;\">1</td>\n",
    "      <td style=\"font-weight: bold; font-size: 14px; color: #e81123; text-align: left; border: 1px solid; border-color: black;\">work_year</td>\n",
    "      <td style=\"font-size: 14px; color: #e81123; text-align: justify; border: 1px solid; border-color: black;\">Representing the specific year of salary data collection.</td>\n",
    "    </tr>\n",
    "    <tr>\n",
    "      <td style=\"font-weight: bold; font-size: 14px; color: #0d4987; text-align: left; border: 1px solid; border-color: black;\">2</td>\n",
    "      <td style=\"font-weight: bold; font-size: 14px; color: #0d4987; text-align: left; border: 1px solid; border-color: black;\">Experience_level</td>\n",
    "      <td style=\"font-size: 14px; color: #0d4987; text-align: justify; border: 1px solid; border-color: black;\">The level of work experience of the employees, categorized as EN (Entry-Level), EX (Experienced), MI (Mid-Level), SE (Senior).</td>\n",
    "    </tr>\n",
    "    <tr>\n",
    "      <td style=\"font-weight: bold; font-size: 14px; color: #e81123; text-align: left; border: 1px solid; border-color: black;\">3</td>\n",
    "      <td style=\"font-weight: bold; font-size: 14px; color: #e81123; text-align: left; border: 1px solid; border-color: black;\">Employment_type</td>\n",
    "      <td style=\"font-size: 14px; color: #e81123; text-align: justify; border: 1px solid; border-color: black;\">The type of employment, labelled as FT (Full-Time), CT (Contractor), FL (Freelancer), PT (Part-Time).</td>\n",
    "    </tr>\n",
    "    <tr>\n",
    "      <td style=\"font-weight: bold; font-size: 14px; color: #0d4987; text-align: left; border: 1px solid; border-color: black;\">4</td>\n",
    "      <td style=\"font-weight: bold; font-size: 14px; color: #0d4987; text-align: left; border: 1px solid; border-color: black;\">Job_title</td>\n",
    "      <td style=\"font-size: 14px; color: #0d4987; text-align: justify; border: 1px solid; border-color: black;\">The job titles of the employees, such as \"Applied Scientist\", \"Data Quality Analyst\", etc.</td>\n",
    "    </tr>\n",
    "    <tr>\n",
    "      <td style=\"font-weight: bold; font-size: 14px; color: #e81123; text-align: left; border: 1px solid; border-color: black;\">5</td>\n",
    "      <td style=\"font-weight: bold; font-size: 14px; color: #e81123; text-align: left; border: 1px solid; border-color: black;\">Salary</td>\n",
    "      <td style=\"font-size: 14px; color: #e81123; text-align: justify; border: 1px solid; border-color: black;\">The salary figures in their respective currency formats.</td>\n",
    "    </tr>\n",
    "    <tr>\n",
    "      <td style=\"font-weight: bold; font-size: 14px; color: #0d4987; text-align: left; border: 1px solid; border-color: black;\">6</td>\n",
    "      <td style=\"font-weight: bold; font-size: 14px; color: #0d4987; text-align: left; border: 1px solid; border-color: black;\">Salary_currency</td>\n",
    "      <td style=\"font-size: 14px; color: #0d4987; text-align: justify; border: 1px solid; border-color: black;\">The currency code representing the salary.</td>\n",
    "    </tr>\n",
    "    <tr>\n",
    "      <td style=\"font-weight: bold; font-size: 14px; color: #e81123; text-align: left; border: 1px solid; border-color: black;\">7</td>\n",
    "      <td style=\"font-weight: bold; font-size: 14px; color: #e81123; text-align: left; border: 1px solid; border-color: black;\">Salary_in_usd</td>\n",
    "      <td style=\"font-size: 14px; color: #e81123; text-align: justify; border: 1px solid; border-color: black;\">The converted salary figures in USD for uniform comparison.</td>\n",
    "    </tr>\n",
    "    <tr>\n",
    "      <td style=\"font-weight: bold; font-size: 14px; color: #0d4987; text-align: left; border: 1px solid; border-color: black;\">8</td>\n",
    "      <td style=\"font-weight: bold; font-size: 14px; color: #0d4987; text-align: left; border: 1px solid; border-color: black;\">Company_location</td>\n",
    "      <td style=\"font-size: 14px; color: #0d4987; text-align: justify; border: 1px solid; border-color: black;\">The location of the companies, specified as country codes (e.g., \"US\" for the United States and \"NG\" for Nigeria).</td>\n",
    "    </tr>\n",
    "    <tr>\n",
    "      <td style=\"font-weight: bold; font-size: 14px; color: #e81123; text-align: left; border: 1px solid; border-color: black;\">9</td>\n",
    "      <td style=\"font-weight: bold; font-size: 14px; color: #e81123; text-align: left; border: 1px solid; border-color: black;\">Company_size</td>\n",
    "      <td style=\"font-size: 14px; color: #e81123; text-align: justify; border: 1px solid; border-color: black;\">The size of the companies, classified as \"L\" (Large), \"M\" (Medium), and \"S\" (Small).</td>\n",
    "    </tr>\n",
    "  </tbody>\n",
    "</table>"
   ]
  },
  {
   "cell_type": "markdown",
   "metadata": {
    "papermill": {
     "duration": 0.016994,
     "end_time": "2023-08-26T05:50:42.772786",
     "exception": false,
     "start_time": "2023-08-26T05:50:42.755792",
     "status": "completed"
    },
    "tags": []
   },
   "source": [
    "<a id=\"2\"></a>\n",
    "<h1 style=\"background-color: #0d4987; font-size: 28px bold; color: #b1ff00; text-align: center; font-family: Blogger Sans; margin: 10px; border: 1px solid; border-color: #0d4987; border-radius: 1px; padding: 15px; border-radius: 8px 8px 0 0;\">2. Problem Statement and Objectives</h1>\n",
    "\n",
    "<a id=\"2.1\"></a>\n",
    "<h2 style=\"font-family: Calibri (Body); font-size: 24px; font-weight: bold; text-decoration: none; text-transform: none; margin-bottom: 0em; letter-spacing: 1px; color: #0d4987; background-color: #ffffff;\">2.1. Problem Statement</h2>\n",
    "\n",
    "<p style=\"font-size: 18px; font-weight: normal; font-family: Calibri (Body); text-align: justify; line-height: 30px; letter-spacing: 1px; color: #0d4987;\">This project aims to analyze salary trends in the Data Science field from 2021 to 2023, incorporating variables such as work experience, job titles, company size, and location. The primary objectives include visualizing global salary trends, summarizing variations based on company size, presenting average salaries by experience levels and job titles, evaluating salary differences across employment types, identifying top Data Science job titles by average salary, and assessing average salaries based on currency, location, and company size. The project provides insights into the stability of salary trends, the influence of company size, and the earning potential associated with different experience levels and job titles in the Data Science industry.</p>\n",
    "\n",
    "<a id=\"2.2\"></a>\n",
    "<h2 style=\"font-family: Calibri (Body); font-size: 24px; font-weight: bold; text-decoration: none; text-transform: none; margin-bottom: 0em; letter-spacing: 1px; color: #0d4987; background-color: #ffffff;\">2.2. Objectives</h2>\n",
    "\n",
    "<p style=\"font-size: 20px; font-weight: normal; font-family: Calibri (Body); text-align: justify; line-height: 30px; letter-spacing: 1px; color: #0d4987;\">This notebook aims:\n",
    "\n",
    "<ul style=\"margin: 12px 0px 0px 12px; font-size: 18px; font-weight: normal; font-family: Calibri (Body); text-align: justify; line-height: 30px; letter-spacing: 1px; color: #0d4987;\">\n",
    "    <li style=\"font-size: 18px; padding-bottom: 10px;\">To analyze and visualize Data Science salary trends from 2021-23 globally.</li>\n",
    "    <li style=\"font-size: 18px; padding-bottom: 10px;\">To summarize salary variations based on company size over the years.</li>\n",
    "    <li style=\"font-size: 18px; padding-bottom: 10px;\">To present average salaries categorized by experience levels and job titles.</li>\n",
    "    <li style=\"font-size: 18px; padding-bottom: 10px;\">To evaluate salary differences across employment types in Data Science.</li>\n",
    "    <li style=\"font-size: 18px; padding-bottom: 10px;\">To identify and rank the top 15 Data Science job titles by average salary.</li>\n",
    "    <li style=\"font-size: 18px; padding-bottom: 10px;\">To depict the distribution of experience levels for the top 20 salaries.</li>\n",
    "    <li style=\"font-size: 18px; padding-bottom: 10px;\">To track the transition of top 20 job titles across experience levels.</li>\n",
    "    <li style=\"font-size: 18px; padding-bottom: 10px;\">To assess average salaries based on currency, location, and company size.</li>\n",
    "</ul>"
   ]
  },
  {
   "cell_type": "markdown",
   "metadata": {
    "papermill": {
     "duration": 0.01708,
     "end_time": "2023-08-26T05:50:42.807226",
     "exception": false,
     "start_time": "2023-08-26T05:50:42.790146",
     "status": "completed"
    },
    "tags": []
   },
   "source": [
    "<div style='background-color: #fff7f7; border: 2px solid #e81123; border-radius: 2px; padding : 20px; margin: 30px 10px 30px 10px;'>\n",
    "    <center><img src=\"https://raw.githubusercontent.com/khairullahhamsafar/portfolio_prjects/main/Data_Scientists_Salaries_Analysis/img/icon_01.png\" width=\"100px\" height=\"100px\"></center>\n",
    "    <p style=\"font-size: 18px; font-weight: normal; font-family: Calibri (Body); text-align: justify; line-height: 30px; letter-spacing: 1px; color: #0d4987;\">\"&#127807; In the vast library of knowledge, my notebook is a chapter waiting for your upvote. As J.K. Rowling once said, 'We are only as strong as we are united, as weak as we are divided.' Let's unite, support, and elevate each other's contributions! &#128154;\t&#128218;\"</p>\n",
    "    <p style=\"font-size: 18px; font-weight: normal; font-family: Blogger Sans; text-align: right; line-height: 30px; letter-spacing: 1px; color: #42ba00;\">Kind regards, Khairullah Hamsafar</p>\n",
    "</div>"
   ]
  }
 ],
 "metadata": {
  "kernelspec": {
   "display_name": "Python 3 (ipykernel)",
   "language": "python",
   "name": "python3"
  },
  "language_info": {
   "codemirror_mode": {
    "name": "ipython",
    "version": 3
   },
   "file_extension": ".py",
   "mimetype": "text/x-python",
   "name": "python",
   "nbconvert_exporter": "python",
   "pygments_lexer": "ipython3",
   "version": "3.11.5"
  }
 },
 "nbformat": 4,
 "nbformat_minor": 4
}
