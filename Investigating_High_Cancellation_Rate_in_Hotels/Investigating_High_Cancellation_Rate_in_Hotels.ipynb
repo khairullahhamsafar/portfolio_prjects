{
 "cells": [
  {
   "cell_type": "markdown",
   "id": "99f9b32c",
   "metadata": {},
   "source": [
    "<a id=\"header\"></a>\n",
    "<div style=\"border: 1px solid; color: #fff600; background-color: #fff600;\">\n",
    "    <center><img src=\"https://raw.github.com/khairullahhamsafar/portfolio_prjects/main/Investigating_High_Cancellation_Rate_in_Hotels/img/hotal_banner_01.jpg\"></center>\n",
    "    <div style=\"border: 5px solid; color: #19a01a; border-radius: 5px; margin: 10px; padding: 15px;\">\n",
    "        <h1 style=\"font-size: 26px; color: #19a01a; text-align: center; font-family: Blogger Sans; font-weight: bold; line-height: 28px;\">\n",
    "        &#128202; Investigating High Cancellation Rate in Hotels &#128176;\n",
    "        </h1>\n",
    "        <h1 style=\"font-size: 26px; color: #19a01a; text-align: center; font-family: Blogger Sans; font-weight: bold; line-height: 28px;\">\n",
    "        &#128293; Research-based Analysis for Countering High Cancellation Rates. &#128153;\n",
    "        </h1>\n",
    "    </div>\n",
    "</div>\n",
    "<br/>"
   ]
  },
  {
   "cell_type": "markdown",
   "id": "42db0f29",
   "metadata": {},
   "source": [
    "<div style=\"border: 1px solid; color: #cd2c39;\">\n",
    "    \n",
    "<div style=\"border: 1px solid; color: #cd2c39; background-color: #cd2c39;\">\n",
    "    <h1 style=\"font-size: 26px; color: #fff600; text-align: justify; font-family: Blogger Sans; font-weight: bold; margin: 10px; border: 5px solid; border-radius: 5px; padding: 15px;\">\n",
    "    &#128221; Table of Content\n",
    "        </h1>\n",
    "</div>\n",
    "    \n",
    "<ol>\n",
    "    <li style=\"font-size: 20px; color: #146EB4; text-align: justify; text-decoration: none; font-family: Calibri (Body); margin: 20px;\">\n",
    "        <a style=\"text-decoration: none; color: inherit; cursor: pointer;\" href=\"#1\">Introduction</a>\n",
    "    </li>\n",
    "    <li style=\"font-size: 20px; color: #146EB4; text-align: justify; text-decoration: none; font-family: Calibri (Body); margin: 20px;\">\n",
    "        <a style=\"text-decoration: none; color: inherit; cursor: pointer;\" href=\"#2\">Business Problem</a>\n",
    "    </li>\n",
    "    <li style=\"font-size: 20px; color: #146EB4; text-align: justify; text-decoration: none; font-family: Calibri (Body); margin: 20px;\">\n",
    "        <a style=\"text-decoration: none; color: inherit; cursor: pointer;\" href=\"#3\">Assumptions</a>\n",
    "    </li>\n",
    "    <li style=\"font-size: 20px; color: #146EB4; text-align: justify; text-decoration: none; font-family: Calibri (Body); margin: 20px;\">\n",
    "        <a style=\"text-decoration: none; color: inherit; cursor: pointer;\" href=\"#4\">Research Questions</a>\n",
    "    </li>\n",
    "    <li style=\"font-size: 20px; color: #146EB4; text-align: justify; text-decoration: none; font-family: Calibri (Body); margin: 20px;\">\n",
    "        <a style=\"text-decoration: none; color: inherit; cursor: pointer;\" href=\"#5\">Hypothesis</a>\n",
    "    </li>\n",
    "    <li style=\"font-size: 20px; color: #146EB4; text-align: justify; text-decoration: none; font-family: Calibri (Body); margin: 20px;\">\n",
    "        <a style=\"text-decoration: none; color: inherit; cursor: pointer;\" href=\"#6\">Analysis and Findings</a>\n",
    "    </li>\n",
    "    <li style=\"font-size: 20px; color: #146EB4; text-align: justify; text-decoration: none; font-family: Calibri (Body); margin: 20px;\">\n",
    "        <a style=\"text-decoration: none; color: inherit; cursor: pointer;\" href=\"#6\">Suggested Data-driven Decisions</a>\n",
    "    </li>\n",
    "    <li style=\"font-size: 20px; color: #146EB4; text-align: justify; text-decoration: none; font-family: Calibri (Body); margin: 20px;\">\n",
    "        <a style=\"text-decoration: none; color: inherit; cursor: pointer;\" href=\"#7\">Author: An Overview</a>\n",
    "    </li>\n",
    "</ol>\n",
    "</div>"
   ]
  }
 ],
 "metadata": {
  "kernelspec": {
   "display_name": "Python 3 (ipykernel)",
   "language": "python",
   "name": "python3"
  },
  "language_info": {
   "codemirror_mode": {
    "name": "ipython",
    "version": 3
   },
   "file_extension": ".py",
   "mimetype": "text/x-python",
   "name": "python",
   "nbconvert_exporter": "python",
   "pygments_lexer": "ipython3",
   "version": "3.11.5"
  }
 },
 "nbformat": 4,
 "nbformat_minor": 5
}
