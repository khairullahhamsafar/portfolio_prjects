{
 "cells": [
  {
   "cell_type": "markdown",
   "id": "7bcae26b",
   "metadata": {},
   "source": [
    "<a id=\"header\"></a>\n",
    "<div style=\"border: 1px solid; color: #0d4987; background-color: #1163ff;\">\n",
    "    <center><img src=\"https://github.com/khairullahhamsafar/portfolio_prjects/main/Investigating_High_Cancellation_Rate_in_Hotels/img/hotal_banner_01.jpg\"></center>\n",
    "    <div style=\"border: 5px solid; color: #ededed; border-radius: 5px; margin: 10px; padding: 15px;\">\n",
    "        <h1 style=\"font-size: 26px; color: #ededed; text-align: center; font-family: Blogger Sans; font-weight: bold; line-height: 28px;\">\n",
    "        &#128269; Investigating High Cancellation Rate in Hotels &#127976;\n",
    "        </h1>\n",
    "        <h1 style=\"font-size: 26px; color: #ededed; text-align: center; font-family: Blogger Sans; font-weight: bold; line-height: 28px;\">\n",
    "        &#128300; Research-based Analysis for Countering High Cancellation Rates. &#128202;\n",
    "        </h1>\n",
    "    </div>\n",
    "</div>"
   ]
  },
  {
   "cell_type": "markdown",
   "id": "9a45254d",
   "metadata": {},
   "source": [
    "<div style=\"border: 1px solid; color: #19a01a; background-color: #ededed;\">\n",
    "    <div style=\"border: 1px solid; color: #19a01a; background-color: #19a01a;\">\n",
    "        <h1 style=\"font-size: 26px; color: #fff600; text-align: justify; font-family: Blogger Sans; font-weight: bold; margin: 10px; border: 5px solid; border-radius: 5px; padding: 15px;\">\n",
    "    &#128221; Table of Content\n",
    "        </h1>\n",
    "    </div>\n",
    "<ol>\n",
    "    <li style=\"font-size: 20px; color: #19a01a; text-align: justify; text-decoration: none; font-family: Calibri (Body); margin: 20px;\">\n",
    "        <a style=\"text-decoration: none; color: #19a01a; cursor: pointer;\" href=\"#1\">Introduction</a>\n",
    "    </li>\n",
    "    <li style=\"font-size: 20px; color: #19a01a; text-align: justify; text-decoration: none; font-family: Calibri (Body); margin: 20px;\">\n",
    "        <a style=\"text-decoration: none; color: #19a01a; cursor: pointer;\" href=\"#2\">Business Problem and Assumptions</a>\n",
    "    </li>\n",
    "    <li style=\"font-size: 20px; color: #19a01a; text-align: justify; text-decoration: none; font-family: Calibri (Body); margin: 20px;\">\n",
    "        <a style=\"text-decoration: none; color: #19a01a; cursor: pointer;\" href=\"#4\">Research Questions and Hypothesis</a>\n",
    "    </li>\n",
    "    <li style=\"font-size: 20px; color: #19a01a; text-align: justify; text-decoration: none; font-family: Calibri (Body); margin: 20px;\">\n",
    "        <a style=\"text-decoration: none; color: #19a01a; cursor: pointer;\" href=\"#6\">Analysis and Findings</a>\n",
    "    </li>\n",
    "    <li style=\"font-size: 20px; color: #19a01a; text-align: justify; text-decoration: none; font-family: Calibri (Body); margin: 20px;\">\n",
    "        <a style=\"text-decoration: none; color: #19a01a; cursor: pointer;\" href=\"#6\">Suggested Data-driven Decisions</a>\n",
    "    </li>\n",
    "    <li style=\"font-size: 20px; color: #19a01a; text-align: justify; text-decoration: none; font-family: Calibri (Body); margin: 20px;\">\n",
    "        <a style=\"text-decoration: none; color: #19a01a; cursor: pointer;\" href=\"#7\">Author: An Overview</a>\n",
    "    </li>\n",
    "</ol>\n",
    "</div>"
   ]
  },
  {
   "cell_type": "markdown",
   "id": "7e11e1bc",
   "metadata": {},
   "source": [
    "# <h1 style=\"background-color: #ffe500; font-size: 26px; color: #363021; text-align: center; font-family: Blogger Sans; font-weight: bold; margin: 10px; border: 1px solid; border-color: #363021; border-radius: 1px; padding: 15px; border-radius: 8px 8px 0 0;\"><a id=\"1\"></a>1. Introduction</h1>"
   ]
  },
  {
   "cell_type": "markdown",
   "id": "515f0c85",
   "metadata": {},
   "source": [
    "<a id=\"1.1\"></a>\n",
    "<h2 style=\"font-family: Calibri (Body); font-size: 24px; font-weight: bold; text-decoration: none; text-transform: none; margin-bottom: 0em; letter-spacing: 2px; color: #1163ff; background-color: #ffffff;\">1.1 About Data</h2>"
   ]
  },
  {
   "cell_type": "markdown",
   "id": "a24b46a3",
   "metadata": {},
   "source": [
    "<p style=\"font-size: 18px; font-weight: normal; font-family: Calibri (Body); text-align: justify; line-height: 30px; letter-spacing: 1px; color: #19a01a;\">\n",
    "The dataset, sourced from Mustafa's Kaggle profile, provides information on hotel reservations with 1,19,390 observations for a City Hotel and a Resort Hotel. Each observation represents a hotel booking between the 1st of July 2015 and 31st of August 2017, including booking that effectively arrived and booking that were canceled. It has been tailored for analysis by excluding features deemed irrelevant. Additionally, preprocessing steps have been applied to enhance data quality, including the handling of missing values and removal of outliers. For further more detailed information, please visit my <a style=\"text-decoration: none; color: #e81123; cursor: pointer;\" href=\"https://www.kaggle.com/datasets/khairullahhamsafar/hotels-booking-data-cleaned-version\" target=\"_blank\">Kaggle Profile</a>.</p>"
   ]
  },
  {
   "cell_type": "markdown",
   "id": "53ad0562",
   "metadata": {},
   "source": [
    "# <h1 style=\"background-color: #ffe500; font-size: 26px; color: #363021; text-align: center; font-family: Blogger Sans; font-weight: bold; margin: 10px; border: 1px solid; border-color: #363021; border-radius: 1px; padding: 15px; border-radius: 8px 8px 0 0;\"><a id=\"2\"></a>2. Business Problem and Assumptions</h1>"
   ]
  },
  {
   "cell_type": "markdown",
   "id": "5479be26",
   "metadata": {},
   "source": [
    "<a id=\"2.1\"></a>\n",
    "<h2 style=\"font-family: Calibri (Body); font-size: 24px; font-weight: bold; text-decoration: none; text-transform: none; margin-bottom: 0em; letter-spacing: 2px; color: #1163ff; background-color: #ffffff;\">2.1. Business Problem</h2>"
   ]
  },
  {
   "cell_type": "markdown",
   "id": "5419f782",
   "metadata": {},
   "source": [
    "<p style=\"font-size: 18px; font-weight: normal; font-family: Calibri (Body); text-align: justify; line-height: 30px; letter-spacing: 1px; color: #19a01a;\">In recent years, both Resort Hotel and City Hotel have faced significant challenges due to high cancellation rates, leading to issues such as reduced revenues and suboptimal room utilization. The primary cause of suboptimal room usage is the elevated cancellation rates, resulting in decreased revenue generation. Lowering cancellation rates is crucial for both hotels to enhance efficiency and revenue.</p>\n",
    "<p style=\"font-size: 18px; font-weight: normal; font-family: Calibri (Body); text-align: justify; line-height: 30px; letter-spacing: 1px; color: #19a01a;\">As a data analyst's, our responsibility is to provide comprehensive business advice to address this pressing issue. The focus of this report is on analyzing hotel booking cancellations and identifying other factors unrelated to their business that may impact yearly revenue generation.</p>"
   ]
  },
  {
   "cell_type": "markdown",
   "id": "f6a69f8a",
   "metadata": {},
   "source": [
    "<a id=\"2.2\"></a>\n",
    "<h2 style=\"font-family: Calibri (Body); font-size: 24px; font-weight: bold; text-decoration: none; text-transform: none; margin-bottom: 0em; letter-spacing: 2px; color: #1163ff; background-color: #ffffff;\">2.2. Assumptions</h2>"
   ]
  },
  {
   "cell_type": "markdown",
   "id": "d75e4c34",
   "metadata": {},
   "source": [
    "<ul style=\"margin: 12px 0px 0px 12px; font-size: 18px; font-weight: normal; font-family: Calibri (Body); text-align: justify; line-height: 30px; letter-spacing: 1px; color: #19a01a;\">\n",
    "    <li style=\"font-size: 18px; padding-bottom: 10px;\">No significant outliers affected the data between 2015 and 2017.</li>\n",
    "    <li style=\"font-size: 18px; padding-bottom: 10px;\">The information remains current for efficient hotel analysis.</li>\n",
    "    <li style=\"font-size: 18px; padding-bottom: 10px;\">No unexpected negative consequences are anticipated if hotels implement advised techniques.</li>\n",
    "    <li style=\"font-size: 18px; padding-bottom: 10px;\">The suggested solutions are not currently in use by the hotels.</li>\n",
    "    <li style=\"font-size: 18px; padding-bottom: 10px;\">The primary factor impacting income effectiveness is booking cancellations.</li>\n",
    "    <li style=\"font-size: 18px; padding-bottom: 10px;\">Cancellations lead to vacant rooms for the reserved time, hindering potential earnings.</li>\n",
    "    <li style=\"font-size: 18px; padding-bottom: 10px;\">Clients make hotel reservations and cancellations within the same year.</li>\n",
    "</ul>"
   ]
  },
  {
   "cell_type": "markdown",
   "id": "ce2ff793",
   "metadata": {},
   "source": [
    "# <h1 style=\"background-color: #ffe500; font-size: 26px; color: #363021; text-align: center; font-family: Blogger Sans; font-weight: bold; margin: 10px; border: 1px solid; border-color: #363021; border-radius: 1px; padding: 15px; border-radius: 8px 8px 0 0;\"><a id=\"2\"></a>3. Research Questions and Hypothesis</h1>"
   ]
  },
  {
   "cell_type": "markdown",
   "id": "d0135f23",
   "metadata": {},
   "source": [
    "<a id=\"3.1\"></a>\n",
    "<h2 style=\"font-family: Calibri (Body); font-size: 24px; font-weight: bold; text-decoration: none; text-transform: none; margin-bottom: 0em; letter-spacing: 2px; color: #1163ff; background-color: #ffffff;\">3.1. Research Questions</h2>"
   ]
  },
  {
   "cell_type": "markdown",
   "id": "5edfec77",
   "metadata": {},
   "source": [
    "<ol style=\"margin: 12px 0px 0px 12px; font-size: 18px; font-weight: normal; font-family: Calibri (Body); text-align: justify; line-height: 30px; letter-spacing: 1px; color: #19a01a;\">\n",
    "    <li style=\"font-size: 18px; padding-bottom: 10px;\">Which features (variables) influence the cancellation of hotel bookings (room reservations)?</li>\n",
    "    <li style=\"font-size: 18px; padding-bottom: 10px;\">What strategies can enhance the efficiency of hotel booking (room reservation) processes?</li>\n",
    "    <li style=\"font-size: 18px; padding-bottom: 10px;\">In what ways can hotels receive support for pricing and promotional decision-making?</li>\n",
    "</ol>"
   ]
  },
  {
   "cell_type": "markdown",
   "id": "0a1de66f",
   "metadata": {},
   "source": [
    "<a id=\"3.2\"></a>\n",
    "<h2 style=\"font-family: Calibri (Body); font-size: 24px; font-weight: bold; text-decoration: none; text-transform: none; margin-bottom: 0em; letter-spacing: 2px; color: #1163ff; background-color: #ffffff;\">3.2. Hypotheses</h2>"
   ]
  },
  {
   "cell_type": "markdown",
   "id": "cb435475",
   "metadata": {},
   "source": [
    "<ol style=\"margin: 12px 0px 0px 12px; font-size: 18px; font-weight: normal; font-family: Calibri (Body); text-align: justify; line-height: 30px; letter-spacing: 1px; color: #19a01a;\">\n",
    "    <li style=\"font-size: 18px; padding-bottom: 10px;\">Higher prices contribute to an increased number of cancellations.</li>\n",
    "    <li style=\"font-size: 18px; padding-bottom: 10px;\">A lengthier waiting list correlates with higher customer cancellation rates.</li>\n",
    "    <li style=\"font-size: 18px; padding-bottom: 10px;\">The majority of clients opt for reservations through offline travel agents.</li>\n",
    "</ol>"
   ]
  }
 ],
 "metadata": {
  "kernelspec": {
   "display_name": "Python 3 (ipykernel)",
   "language": "python",
   "name": "python3"
  },
  "language_info": {
   "codemirror_mode": {
    "name": "ipython",
    "version": 3
   },
   "file_extension": ".py",
   "mimetype": "text/x-python",
   "name": "python",
   "nbconvert_exporter": "python",
   "pygments_lexer": "ipython3",
   "version": "3.11.5"
  }
 },
 "nbformat": 4,
 "nbformat_minor": 5
}
