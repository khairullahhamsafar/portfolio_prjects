{
 "cells": [
  {
   "cell_type": "markdown",
   "id": "edb2c877",
   "metadata": {},
   "source": [
    "<div style=\"border: 1px solid; color: #FF9900; background-color: #FF9900;\">\n",
    "    <center><img src=\"img/Amazon_02.jpg\"></center>\n",
    "<h1 style=\"font-size: 26px bold; color: #232F3E; text-align: center; font-family: Blogger Sans; margin: 10px; border: 5px solid; border-radius: 5px; padding: 15px;\">&#129367; Amazon Products Reviews Sentiment Analysis &#128007;\n",
    "</h1>\n",
    "</div>\n",
    "<br/>"
   ]
  },
  {
   "cell_type": "markdown",
   "id": "11481156",
   "metadata": {},
   "source": [
    "<div style=\"border: 1px solid; color: #FF9900;\">\n",
    "    \n",
    "<div style=\"border: 1px solid; color: #FF9900; background-color: #FF9900;\">\n",
    "<h1 style=\"font-size: 26px bold; color: #232F3E; text-align: justify; font-family: Blogger Sans; margin: 10px; border: 5px solid; border-radius: 5px; padding: 15px;\">&#128221; Table of Content</h1>\n",
    "</div>\n",
    "    \n",
    "<ol>\n",
    "    <li style=\"font-size: 18px; color: #146EB4; text-align: justify; text-decoration: none; font-family: Calibri (Body); margin: 10px;\">\n",
    "        Introduction\n",
    "    </li>    \n",
    "    <li style=\"font-size: 18px; color: #146EB4; text-align: justify; text-decoration: none; font-family: Calibri (Body); margin: 10px;\">\n",
    "        Data Cleaning and Preprocessing\n",
    "    </li>\n",
    "    <li style=\"font-size: 18px; color: #146EB4; text-align: justify; text-decoration: none; font-family: Calibri (Body); margin: 10px;\">\n",
    "        Story Creation and Visualization\n",
    "    </li>\n",
    "    <li style=\"font-size: 18px; color: #146EB4; text-align: justify; text-decoration: none; font-family: Calibri (Body); margin: 10px;\">\n",
    "        Features Extraction\n",
    "    </li>\n",
    "    <li style=\"font-size: 18px; color: #146EB4; text-align: justify; text-decoration: none; font-family: Calibri (Body); margin: 10px;\">\n",
    "        Sentiment Analysis\n",
    "    </li>\n",
    "</ol>\n",
    "</div>"
   ]
  },
  {
   "cell_type": "markdown",
   "id": "f9556084",
   "metadata": {},
   "source": [
    "<div style=\"border: 1px solid; color: #FF9900; padding : 20px; margin: 30px 10px 30px 10px;\">\n",
    "    \n",
    "<div style=\"border: 1px solid; color: #FF9900; background-color: #FF9900;\">\n",
    "<h1 style=\"font-size: 26px; font-weight: bold; color: #232F3E; text-align: justify; font-family: Blogger Sans; margin: 10px; border: 5px solid; border-radius: 5px; padding: 15px;\">&#9997; 1. Introduction</h1>\n",
    "</div>\n",
    "    <h2 style=\"font-family: Calibri (Body); font-size: 24px; font-weight: bold; text-decoration: none; text-transform: none; margin-bottom: 0em; letter-spacing: 2px; color: #146EB4; background-color: #ffffff;\">1.1. Overview</h2>\n",
    "    <p style=\"font-size: 18px; font-weight: normal; font-family: Calibri (Body); text-align: justify; line-height: 30px; letter-spacing: 0.5px; color: #131A22; padding-bottom: 5px;\">\n",
    "        In our daily lives, we encounter a plethora of products, especially in the digital realm, where we navigate through countless choices within a single category. Choosing the right product from this vast array can be an overwhelming task for customers. This is where the significance of 'reviews' comes into play. These reviews, contributed by individuals who have already experienced the product, not only provide a rating but also offer insightful narratives about their personal encounters.\n",
    "    </p>\n",
    "    <p style=\"font-size: 18px; font-weight: normal; font-family: Calibri (Body); text-align: justify; line-height: 30px; letter-spacing: 0.5px; color: #131A22; padding-bottom: 5px;\">\n",
    "        While ratings offer a quick numerical snapshot of a product's overall performance, the true essence lies in the detailed sentence reviews. However, sifting through these reviews to discern the sentiment can be a time-consuming process, demanding careful attention to each line. The advent of Artificial Intelligence, specifically Natural Language Processing (NLP) technology, has revolutionized this landscape.</p>\n",
    "    <p style=\"font-size: 18px; font-weight: normal; font-family: Calibri (Body); text-align: justify; line-height: 30px; letter-spacing: 0.5px; color: #131A22; padding-bottom: 5px;\">\n",
    "        With NLP, the complexity of comprehending lengthy reviews is alleviated as the technology excels in understanding and interpreting human language nuances. It has streamlined the process of distilling valuable information from reviews, empowering consumers to make informed decisions efficiently. In this era of artificial intelligence, the integration of NLP not only simplifies the review-reading process but also enhances the overall consumer experience by providing a more accessible and nuanced understanding of product sentiments.\n",
    "</p>\n",
    "\n",
    "<h2 style=\"font-family: Calibri (Body); font-size: 24px; font-weight: bold; text-decoration: none; text-transform: none; margin-bottom: 0em; letter-spacing: 2px; color: #146EB4; background-color: #ffffff;\">1.2. Problem Statement</h2>\n",
    "    <p style=\"font-size: 18px; font-weight: normal; font-family: Calibri (Body); text-align: justify; line-height: 30px; letter-spacing: 0.5px; color: #131A22; padding-bottom: 5px;\">ISRO has identified a critical need to enhance its understanding of customer feedback received through web portals, particularly on platforms like Bhuvan. The sheer volume of feedback generated poses a significant challenge, requiring an efficient solution to categorize and analyze opinions expressed by users. The objective is to establish a robust feedback management system that involves the classification of individual comments and reviews.</p>\n",
    "    <p style=\"font-size: 18px; font-weight: normal; font-family: Calibri (Body); text-align: justify; line-height: 30px; letter-spacing: 0.5px; color: #131A22; padding-bottom: 5px;\">The primary focus is on implementing a system capable of determining an overall rating based on the analysis of individual comments and reviews. This strategic approach aims to provide the organization with a comprehensive insight into customer feedback, allowing for targeted improvements in specific areas highlighted by users. The ultimate goal is to foster customer loyalty, resulting in increased business, enhanced brand value, heightened fame, and improved profits.</p>\n",
    "    <p style=\"font-size: 18px; font-weight: normal; font-family: Calibri (Body); text-align: justify; line-height: 30px; letter-spacing: 0.5px; color: #131A22; padding-bottom: 5px;\">By leveraging advanced classification techniques, ISRO aims to streamline the process of mining valuable insights from customer feedback. This not only facilitates a more nuanced understanding of user sentiments but also empowers the organization to address specific concerns promptly. The successful implementation of this feedback management system promises a positive impact on customer satisfaction, ultimately contributing to the sustained growth and success of the organization.</p>\n",
    "\n",
    "<h2 style=\"font-family: Calibri (Body); font-size: 24px; font-weight: bold; text-decoration: none; text-transform: none; margin-bottom: 0em; letter-spacing: 2px; color: #146EB4; background-color: #ffffff;\">1.3. Objectives</h2>\n",
    "    <ul style=\"margin: 12px 0px 0px 12px; font-size: 18px; font-weight: normal; font-family: Calibri (Body); text-align: justify; line-height: 30px; letter-spacing: 0.5px; color: #131A22;\">\n",
    "        <li style=\"font-size: 18px; padding-bottom: 10px;\">To review, preprocess, and clean customer reviews, ensuring the elimination of irrelevant information and noise for enhanced data quality.</li>\n",
    "        <li style=\"font-size: 18px; padding-bottom: 10px;\">To visualize and craft compelling stories from the processed reviews, providing a comprehensive overview of customer sentiments and experiences.</li>\n",
    "        <li style=\"font-size: 18px; padding-bottom: 10px;\">To extract meaningful features from the cleaned reviews, enabling a deeper understanding of the key elements that contribute to positive or negative feedback.</li>\n",
    "        <li style=\"font-size: 18px; padding-bottom: 10px;\">To build a robust model for sentiment analysis, utilizing advanced techniques to accurately categorize customer sentiments expressed in the reviews.</li>\n",
    "    </ul>\n",
    "\n",
    "<h2 style=\"font-family: Calibri (Body); font-size: 24px; font-weight: bold; text-decoration: none; text-transform: none; margin-bottom: 0em; letter-spacing: 2px; color: #146EB4; background-color: #ffffff;\">1.4. About Data</h2>\n",
    "    <p style=\"font-size: 18px; font-weight: normal; font-family: Calibri (Body); text-align: justify; line-height: 30px; letter-spacing: 0.5px; color: #131A22; padding-bottom: 5px;\">The dataset consists of the following columns:</p>\n",
    "    <ul style=\"margin: 12px 0px 0px 12px; font-size: 18px; font-weight: normal; font-family: Calibri (Body); text-align: justify; line-height: 30px; letter-spacing: 0.5px; color: #131A22;\">\n",
    "        <li style=\"font-size: 18px; padding-bottom: 10px;\"><b>reviewerID:</b> ID of the reviewer (e.g., A2SUAM1J3GNN3B).</li>\n",
    "        <li style=\"font-size: 18px; padding-bottom: 10px;\"><b>asin:</b> ID of the product (e.g., 0000013714).</li>\n",
    "        <li style=\"font-size: 18px; padding-bottom: 10px;\"><b>reviewerName:</b> Name of the reviewer.</li>\n",
    "        <li style=\"font-size: 18px; padding-bottom: 10px;\"><b>helpful:</b> Helpfulness rating of the review, represented as a ratio (e.g., 2/3).</li>\n",
    "        <li style=\"font-size: 18px; padding-bottom: 10px;\"><b>reviewText:</b> Text of the review.</li>\n",
    "        <li style=\"font-size: 18px; padding-bottom: 10px;\"><b>overall:</b> Overall rating of the product on a scale of 5.</li>\n",
    "        <li style=\"font-size: 18px; padding-bottom: 10px;\"><b>summary:</b> Summary of the review.</li>\n",
    "        <li style=\"font-size: 18px; padding-bottom: 10px;\"><b>unixReviewTime:</b> Time of the review in Unix timestamp format.</li>\n",
    "        <li style=\"font-size: 18px; padding-bottom: 10px;\"><b>reviewTime:</b> Time of the review in raw format.</li>\n",
    "    </ul>\n",
    "    <p style=\"font-size: 18px; font-weight: normal; font-family: Calibri (Body); text-align: justify; line-height: 30px; letter-spacing: 0.5px; color: #131A22; padding-bottom: 5px;\">These columns provide a comprehensive set of information, including reviewer details, product information, review text, ratings, and timestamps. The dataset is structured to capture key elements necessary for sentiment analysis, feature extraction, and story generation, supporting the project's objectives in understanding and categorizing customer feedback effectively.</p>\n",
    "</div>"
   ]
  },
  {
   "cell_type": "markdown",
   "id": "180b0ac5",
   "metadata": {},
   "source": [
    "<div style=\"border: 1px solid; color: #FF9900;\">\n",
    "    \n",
    "<div style=\"border: 1px solid; color: #FF9900; background-color: #FF9900;\">\n",
    "<h1 style=\"font-size: 26px bold; color: #232F3E; text-align: justify; font-family: Blogger Sans; margin: 10px; border: 5px solid; border-radius: 5px; padding: 15px;\">&#127836; 2. Data Cleaning and Preprocessing</h1>\n",
    "</div>\n",
    "</div>"
   ]
  },
  {
   "cell_type": "markdown",
   "id": "fc826ab5",
   "metadata": {},
   "source": [
    "<h2  style=\"font-size: 22px; font-weight: bold; color: #b50061; text-align: justify; font-family: Blogger Sans; margin: 10px; border-bottom: 5px solid; border-radius: 5px; margin-bottom: 0px; padding-bottom: 20px;\" id=\"sentiment-analysis\">2.1. Importing Necessary Libraries</h2>"
   ]
  },
  {
   "cell_type": "code",
   "execution_count": 3,
   "id": "3e63b148",
   "metadata": {},
   "outputs": [],
   "source": [
    "# Text Processing\n",
    "import string\n",
    "import re\n",
    "from sklearn.feature_extraction.text import TfidfVectorizer\n",
    "from collections import defaultdict, Counter\n",
    "from itertools import cycle\n",
    "\n",
    "# Data Cleaning and Manipulation\n",
    "import numpy as np\n",
    "import pandas as pd\n",
    "from scipy import interp\n",
    "import cufflinks as cf\n",
    "\n",
    "# Natural Language Processing (NLP)\n",
    "import nltk\n",
    "from nltk.stem.porter import PorterStemmer\n",
    "from textblob import TextBlob\n",
    "from wordcloud import WordCloud,STOPWORDS\n",
    "\n",
    "# Machine Learning (ML)\n",
    "import sklearn\n",
    "from sklearn import svm, datasets\n",
    "from sklearn.svm import SVC\n",
    "from sklearn import preprocessing \n",
    "from sklearn.preprocessing import LabelEncoder, StandardScaler, MinMaxScaler, label_binarize\n",
    "from sklearn import metrics\n",
    "from sklearn.metrics import classification_report, roc_auc_score, roc_curve, auc\n",
    "from sklearn.ensemble import ExtraTreesClassifier, RandomForestClassifier\n",
    "from sklearn.pipeline import make_pipeline, Pipeline\n",
    "from sklearn.model_selection import GridSearchCV, train_test_split, cross_val_score\n",
    "from sklearn.linear_model import LogisticRegression\n",
    "from sklearn.tree import DecisionTreeClassifier\n",
    "from sklearn.naive_bayes import BernoulliNB \n",
    "from sklearn.neighbors import KNeighborsClassifier\n",
    "from sklearn.multiclass import OneVsRestClassifier\n",
    "from imblearn.over_sampling import SMOTE\n",
    "\n",
    "# Warnings Control\n",
    "import warnings\n",
    "\n",
    "# Data Visualization\n",
    "import matplotlib.pyplot as plt\n",
    "from matplotlib import rcParams\n",
    "import seaborn as sns\n",
    "import plotly.graph_objs as go\n",
    "from plotly import tools\n",
    "from plotly.offline import iplot"
   ]
  },
  {
   "cell_type": "code",
   "execution_count": 4,
   "id": "07a89a94",
   "metadata": {},
   "outputs": [],
   "source": [
    "warnings.filterwarnings('ignore')\n",
    "%matplotlib inline"
   ]
  },
  {
   "cell_type": "markdown",
   "id": "5fc3c786",
   "metadata": {},
   "source": [
    "<h2  style=\"font-size: 22px; font-weight: bold; color: #b50061; text-align: justify; font-family: Blogger Sans; margin: 10px; border-bottom: 5px solid; border-radius: 5px; margin-bottom: 0px; padding-bottom: 20px;\" id=\"sentiment-analysis\">2.2. Loading Data and DataFrame Conversion</h2>"
   ]
  },
  {
   "cell_type": "code",
   "execution_count": 5,
   "id": "c46efce9",
   "metadata": {},
   "outputs": [],
   "source": [
    "reviewsData = pd.read_csv('Datasets/Musical_instruments_reviews.csv')"
   ]
  },
  {
   "cell_type": "code",
   "execution_count": 6,
   "id": "60d2b02b",
   "metadata": {},
   "outputs": [],
   "source": [
    "df = pd.DataFrame(reviewsData)"
   ]
  },
  {
   "cell_type": "markdown",
   "id": "f0799eea",
   "metadata": {},
   "source": [
    "<h2  style=\"font-size: 22px; font-weight: bold; color: #b50061; text-align: justify; font-family: Blogger Sans; margin: 10px; border-bottom: 5px solid; border-radius: 5px; margin-bottom: 0px; padding-bottom: 20px;\" id=\"sentiment-analysis\">2.3. Concise Summary</h2>"
   ]
  },
  {
   "cell_type": "code",
   "execution_count": 7,
   "id": "7735f2bd",
   "metadata": {},
   "outputs": [
    {
     "data": {
      "text/html": [
       "<div>\n",
       "<style scoped>\n",
       "    .dataframe tbody tr th:only-of-type {\n",
       "        vertical-align: middle;\n",
       "    }\n",
       "\n",
       "    .dataframe tbody tr th {\n",
       "        vertical-align: top;\n",
       "    }\n",
       "\n",
       "    .dataframe thead th {\n",
       "        text-align: right;\n",
       "    }\n",
       "</style>\n",
       "<table border=\"1\" class=\"dataframe\">\n",
       "  <thead>\n",
       "    <tr style=\"text-align: right;\">\n",
       "      <th></th>\n",
       "      <th>reviewerID</th>\n",
       "      <th>asin</th>\n",
       "      <th>reviewerName</th>\n",
       "      <th>helpful</th>\n",
       "      <th>reviewText</th>\n",
       "      <th>overall</th>\n",
       "      <th>summary</th>\n",
       "      <th>unixReviewTime</th>\n",
       "      <th>reviewTime</th>\n",
       "    </tr>\n",
       "  </thead>\n",
       "  <tbody>\n",
       "    <tr>\n",
       "      <th>0</th>\n",
       "      <td>A2IBPI20UZIR0U</td>\n",
       "      <td>1384719342</td>\n",
       "      <td>cassandra tu \"Yeah, well, that's just like, u...</td>\n",
       "      <td>[0, 0]</td>\n",
       "      <td>Not much to write about here, but it does exac...</td>\n",
       "      <td>5.0</td>\n",
       "      <td>good</td>\n",
       "      <td>1393545600</td>\n",
       "      <td>02 28, 2014</td>\n",
       "    </tr>\n",
       "    <tr>\n",
       "      <th>1</th>\n",
       "      <td>A14VAT5EAX3D9S</td>\n",
       "      <td>1384719342</td>\n",
       "      <td>Jake</td>\n",
       "      <td>[13, 14]</td>\n",
       "      <td>The product does exactly as it should and is q...</td>\n",
       "      <td>5.0</td>\n",
       "      <td>Jake</td>\n",
       "      <td>1363392000</td>\n",
       "      <td>03 16, 2013</td>\n",
       "    </tr>\n",
       "    <tr>\n",
       "      <th>2</th>\n",
       "      <td>A195EZSQDW3E21</td>\n",
       "      <td>1384719342</td>\n",
       "      <td>Rick Bennette \"Rick Bennette\"</td>\n",
       "      <td>[1, 1]</td>\n",
       "      <td>The primary job of this device is to block the...</td>\n",
       "      <td>5.0</td>\n",
       "      <td>It Does The Job Well</td>\n",
       "      <td>1377648000</td>\n",
       "      <td>08 28, 2013</td>\n",
       "    </tr>\n",
       "    <tr>\n",
       "      <th>3</th>\n",
       "      <td>A2C00NNG1ZQQG2</td>\n",
       "      <td>1384719342</td>\n",
       "      <td>RustyBill \"Sunday Rocker\"</td>\n",
       "      <td>[0, 0]</td>\n",
       "      <td>Nice windscreen protects my MXL mic and preven...</td>\n",
       "      <td>5.0</td>\n",
       "      <td>GOOD WINDSCREEN FOR THE MONEY</td>\n",
       "      <td>1392336000</td>\n",
       "      <td>02 14, 2014</td>\n",
       "    </tr>\n",
       "    <tr>\n",
       "      <th>4</th>\n",
       "      <td>A94QU4C90B1AX</td>\n",
       "      <td>1384719342</td>\n",
       "      <td>SEAN MASLANKA</td>\n",
       "      <td>[0, 0]</td>\n",
       "      <td>This pop filter is great. It looks and perform...</td>\n",
       "      <td>5.0</td>\n",
       "      <td>No more pops when I record my vocals.</td>\n",
       "      <td>1392940800</td>\n",
       "      <td>02 21, 2014</td>\n",
       "    </tr>\n",
       "  </tbody>\n",
       "</table>\n",
       "</div>"
      ],
      "text/plain": [
       "       reviewerID        asin  \\\n",
       "0  A2IBPI20UZIR0U  1384719342   \n",
       "1  A14VAT5EAX3D9S  1384719342   \n",
       "2  A195EZSQDW3E21  1384719342   \n",
       "3  A2C00NNG1ZQQG2  1384719342   \n",
       "4   A94QU4C90B1AX  1384719342   \n",
       "\n",
       "                                       reviewerName   helpful  \\\n",
       "0  cassandra tu \"Yeah, well, that's just like, u...    [0, 0]   \n",
       "1                                              Jake  [13, 14]   \n",
       "2                     Rick Bennette \"Rick Bennette\"    [1, 1]   \n",
       "3                         RustyBill \"Sunday Rocker\"    [0, 0]   \n",
       "4                                     SEAN MASLANKA    [0, 0]   \n",
       "\n",
       "                                          reviewText  overall  \\\n",
       "0  Not much to write about here, but it does exac...      5.0   \n",
       "1  The product does exactly as it should and is q...      5.0   \n",
       "2  The primary job of this device is to block the...      5.0   \n",
       "3  Nice windscreen protects my MXL mic and preven...      5.0   \n",
       "4  This pop filter is great. It looks and perform...      5.0   \n",
       "\n",
       "                                 summary  unixReviewTime   reviewTime  \n",
       "0                                   good      1393545600  02 28, 2014  \n",
       "1                                   Jake      1363392000  03 16, 2013  \n",
       "2                   It Does The Job Well      1377648000  08 28, 2013  \n",
       "3          GOOD WINDSCREEN FOR THE MONEY      1392336000  02 14, 2014  \n",
       "4  No more pops when I record my vocals.      1392940800  02 21, 2014  "
      ]
     },
     "execution_count": 7,
     "metadata": {},
     "output_type": "execute_result"
    }
   ],
   "source": [
    "df.head()"
   ]
  },
  {
   "cell_type": "code",
   "execution_count": 8,
   "id": "548728a2",
   "metadata": {
    "scrolled": true
   },
   "outputs": [
    {
     "data": {
      "text/plain": [
       "(10261, 9)"
      ]
     },
     "execution_count": 8,
     "metadata": {},
     "output_type": "execute_result"
    }
   ],
   "source": [
    "df.shape"
   ]
  },
  {
   "cell_type": "code",
   "execution_count": 9,
   "id": "6604d912",
   "metadata": {
    "scrolled": true
   },
   "outputs": [
    {
     "name": "stdout",
     "output_type": "stream",
     "text": [
      "<class 'pandas.core.frame.DataFrame'>\n",
      "RangeIndex: 10261 entries, 0 to 10260\n",
      "Data columns (total 9 columns):\n",
      " #   Column          Non-Null Count  Dtype  \n",
      "---  ------          --------------  -----  \n",
      " 0   reviewerID      10261 non-null  object \n",
      " 1   asin            10261 non-null  object \n",
      " 2   reviewerName    10234 non-null  object \n",
      " 3   helpful         10261 non-null  object \n",
      " 4   reviewText      10254 non-null  object \n",
      " 5   overall         10261 non-null  float64\n",
      " 6   summary         10261 non-null  object \n",
      " 7   unixReviewTime  10261 non-null  int64  \n",
      " 8   reviewTime      10261 non-null  object \n",
      "dtypes: float64(1), int64(1), object(7)\n",
      "memory usage: 721.6+ KB\n"
     ]
    }
   ],
   "source": [
    "df.info()"
   ]
  },
  {
   "cell_type": "markdown",
   "id": "29ed46b4",
   "metadata": {},
   "source": [
    "<h2  style=\"font-size: 22px; font-weight: bold; color: #b50061; text-align: justify; font-family: Blogger Sans; margin: 10px; border-bottom: 5px solid; border-radius: 5px; margin-bottom: 0px; padding-bottom: 20px;\" id=\"sentiment-analysis\">2.4. Columns Observation</h2>"
   ]
  },
  {
   "cell_type": "code",
   "execution_count": 12,
   "id": "a26e9478",
   "metadata": {},
   "outputs": [
    {
     "data": {
      "text/plain": [
       "Index(['reviewerID', 'asin', 'reviewerName', 'helpful', 'reviewText',\n",
       "       'overall', 'summary', 'unixReviewTime', 'reviewTime'],\n",
       "      dtype='object')"
      ]
     },
     "execution_count": 12,
     "metadata": {},
     "output_type": "execute_result"
    }
   ],
   "source": [
    "df.columns"
   ]
  },
  {
   "cell_type": "markdown",
   "id": "b951b0ec",
   "metadata": {},
   "source": [
    "<h2  style=\"font-size: 22px; font-weight: bold; color: #b50061; text-align: justify; font-family: Blogger Sans; margin: 10px; border-bottom: 5px solid; border-radius: 5px; margin-bottom: 0px; padding-bottom: 20px;\" id=\"sentiment-analysis\">2.5. NaN and Missing Values Handling</h2>"
   ]
  },
  {
   "cell_type": "code",
   "execution_count": 13,
   "id": "64d40585",
   "metadata": {},
   "outputs": [
    {
     "data": {
      "text/plain": [
       "reviewerID         0\n",
       "asin               0\n",
       "reviewerName      27\n",
       "helpful            0\n",
       "reviewText         7\n",
       "overall            0\n",
       "summary            0\n",
       "unixReviewTime     0\n",
       "reviewTime         0\n",
       "dtype: int64"
      ]
     },
     "execution_count": 13,
     "metadata": {},
     "output_type": "execute_result"
    }
   ],
   "source": [
    "df.isnull().sum()"
   ]
  },
  {
   "cell_type": "markdown",
   "id": "7444ce26",
   "metadata": {},
   "source": [
    "<div style=\"position: relative; background-color: #232F3E; border: 2px solid #fff600; border-radius: 2px; padding : 20px; margin: 30px 10px 30px 10px; font-size: 18px; font-weight: normal; font-family: Calibri (Body); text-align: justify; line-height: 30px; letter-spacing: 1px; color: #fff600;\">\n",
    "    <div style=\"position: absolute; top: -20px; left: 15%; transform: translateX(-50%); background-color: #FF9900; padding: 5px 15px; font-weight: bold; font-size: 20px; color: #232F3E;\">&#128221; Note Pad</div>\n",
    "    <p style=\"font-size: 20px; font-weight: normal; font-family: Calibri; text-align: justify; line-height: 30px; letter-spacing: 1px; color: #fff600;\">\n",
    "        In our dataset, we have encountered null values in both the reviewer names and review text fields. The absence of reviewer names, which are represented by IDs, does not contribute significantly to the project's objectives. Therefore, our primary focus is on the review text. Although there are only 7 instances with null values, instead of opting for a straightforward removal, we propose imputing these missing values and delving into the reasons behind the absence of reviews. This approach could yield valuable insights, allowing us to formulate hypotheses, such as potential correlations with ratings, and enhance our understanding of the underlying factors influencing the non-submission of reviews.\n",
    "    </p>\n",
    "</div>"
   ]
  },
  {
   "cell_type": "code",
   "execution_count": 15,
   "id": "836478b5",
   "metadata": {},
   "outputs": [],
   "source": [
    "df['reviewText']=df['reviewText'].fillna('Missing')"
   ]
  },
  {
   "cell_type": "markdown",
   "id": "35ec059e",
   "metadata": {},
   "source": [
    "<div style=\"border: 1px solid; color: #FF9900;\">\n",
    "    \n",
    "<div style=\"border: 1px solid; color: #FF9900; background-color: #FF9900;\">\n",
    "<h1 style=\"font-size: 26px bold; color: #232F3E; text-align: justify; font-family: Blogger Sans; margin: 10px; border: 5px solid; border-radius: 5px; padding: 15px;\">&#128200; 3. Story Creation and Visualization</h1>\n",
    "</div>\n",
    "    <p style=\"font-size: 18px; color: #131A22; text-align: justify; font-family: Calibri (Body); margin: 10px;\">\n",
    "    Nowadays, companies recieve feedbacks from his customers regarding his products.\n",
    "</p>\n",
    "</div>"
   ]
  },
  {
   "cell_type": "code",
   "execution_count": null,
   "id": "1f5331e7",
   "metadata": {},
   "outputs": [],
   "source": []
  },
  {
   "cell_type": "markdown",
   "id": "db52f1fd",
   "metadata": {},
   "source": [
    "<div style=\"border: 1px solid; color: #FF9900;\">\n",
    "    \n",
    "<div style=\"border: 1px solid; color: #FF9900; background-color: #FF9900;\">\n",
    "<h1 style=\"font-size: 26px bold; color: #232F3E; text-align: justify; font-family: Blogger Sans; margin: 10px; border: 5px solid; border-radius: 5px; padding: 15px;\">&#128225; 4. Features Extraction</h1>\n",
    "</div>\n",
    "    <p style=\"font-size: 18px; color: #131A22; text-align: justify; font-family: Calibri (Body); margin: 10px;\">\n",
    "    Nowadays, companies recieve feedbacks from his customers regarding his products.\n",
    "</p>\n",
    "</div>"
   ]
  },
  {
   "cell_type": "code",
   "execution_count": null,
   "id": "0681dfa7",
   "metadata": {},
   "outputs": [],
   "source": []
  },
  {
   "cell_type": "markdown",
   "id": "a6be9c88",
   "metadata": {},
   "source": [
    "<div style=\"border: 1px solid; color: #FF9900;\">\n",
    "    \n",
    "<div style=\"border: 1px solid; color: #FF9900; background-color: #FF9900;\">\n",
    "<h1 style=\"font-size: 26px bold; color: #232F3E; text-align: justify; font-family: Blogger Sans; margin: 10px; border: 5px solid; border-radius: 5px; padding: 15px;\">&#129422; 5. Sentiment Analysis</h1>\n",
    "</div>\n",
    "    <p style=\"font-size: 18px; color: #131A22; text-align: justify; font-family: Calibri (Body); margin: 10px;\">\n",
    "    Nowadays, companies recieve feedbacks from his customers regarding his products.\n",
    "    </p>\n",
    "</div>"
   ]
  },
  {
   "cell_type": "markdown",
   "id": "cd224ec3",
   "metadata": {},
   "source": [
    "<h2  style=\"font-size: 20px; color: #146EB4; text-align: justify; font-family: Calibri; margin: 10px;\">\n",
    "    &#128260; Loading Dataset into DataFrame.\n",
    "</h2>"
   ]
  },
  {
   "cell_type": "markdown",
   "id": "2067fb2e",
   "metadata": {},
   "source": [
    "<h2  style=\"font-size: 22px bold; color: #b50061; text-align: justify; font-family: Blogger Sans; margin: 10px; border-bottom: 5px solid; border-radius: 5px; margin-bottom: 20px; padding-bottom: 20px;\" id=\"sentiment-analysis\">\n",
    "    &#129422; 5. Sentiment Analysis\n",
    "</h2>\n",
    "\n",
    "<p style=\"font-size: 18px; color: #00144f; text-align: justify; font-family: Calibri (Body); margin: 10px;\">\n",
    "    Nowadays, companies recieve feedbacks from his customers regarding his products.\n",
    "</p>"
   ]
  },
  {
   "cell_type": "markdown",
   "id": "6cd6dc31",
   "metadata": {},
   "source": [
    "<div style=\"position: relative; background-color: #232F3E; border: 2px solid #fff600; border-radius: 2px; padding : 20px; margin: 30px 10px 30px 10px; font-size: 18px; font-weight: normal; font-family: Calibri (Body); text-align: justify; line-height: 30px; letter-spacing: 1px; color: #fff600;\">\n",
    "    <div style=\"position: absolute; top: -20px; left: 15%; transform: translateX(-50%); background-color: #FF9900; padding: 5px 15px; font-weight: bold; font-size: 20px; color: #232F3E;\">&#128221; Note Pad</div>\n",
    "    <p style=\"font-size: 20px; font-weight: normal; font-family: Calibri; text-align: justify; line-height: 30px; letter-spacing: 1px; color: #fff600;\">\n",
    "        Text...\n",
    "    </p>\n",
    "</div>"
   ]
  },
  {
   "cell_type": "markdown",
   "id": "c59f8333",
   "metadata": {},
   "source": [
    "<div style=\"border: 1px solid; color: #FF9900;\">\n",
    "    \n",
    "<div style=\"border: 1px solid; color: #FF9900; background-color: #FF9900;\">\n",
    "<h1 style=\"font-size: 26px bold; color: #131A22; text-align: justify; font-family: Blogger Sans; margin: 10px; border: 5px solid; border-radius: 5px; padding: 15px;\">&#128200; Design Colors Scheme and Emojis Information</h1>\n",
    "</div>\n",
    "\n",
    "<p style=\"font-size: 18px; color: #131A22; text-align: justify; font-family: Calibri (Body); margin: 10px;\">\n",
    "    I have used some Emojis and Colors for the designing purposes in my project. I have chosen different Emojis from DEV Community[3] website and four standard colors of Amazon's brand from SchemeColor website. References regarding these emojis and colors are properly cited in the last. And the neccessory information regarding Amazon's standard colors are the following:\n",
    "</p>\n",
    "\n",
    "<ol>\n",
    "    <li style=\"font-size: 18px; color: #FF9900; text-align: justify; font-family: Adobe Clean SemiLight; margin: 10px;\">Vivid Gamboge [1]\n",
    "        <ul>\n",
    "            <li>Hex: #FF9900</li>\n",
    "            <li>RGB: (255, 153, 0)</li>\n",
    "            <li>CMYK: 0, 0.4, 1, 0</li>\n",
    "        </ul>\n",
    "    </li>\n",
    "    <li style=\"font-size: 18px; color: #232F3E; text-align: justify; font-family: Adobe Clean SemiLight; margin: 10px;\">Gunmetal [2]\n",
    "        <ul>\n",
    "            <li>Hex: #232F3E</li>\n",
    "            <li>RGB: (35, 47, 62)</li>\n",
    "            <li>CMYK: 0.435, 0.241, 0, 0.756</li>\n",
    "        </ul>\n",
    "    </li>\n",
    "    <li style=\"font-size: 18px; color: #131A22; text-align: justify; font-family: Adobe Clean SemiLight; margin: 10px;\">Eerie Black [2]\n",
    "        <ul>\n",
    "            <li>Hex: #131A22</li>\n",
    "            <li>RGB: (19, 26, 34)</li>\n",
    "            <li>CMYK: 0.441, 0.235, 0, 0.866</li>\n",
    "        </ul>\n",
    "    </li>\n",
    "    <li style=\"font-size: 18px; color: #146EB4; text-align: justify; font-family: Adobe Clean SemiLight; margin: 10px;\">Green-Blue [1]\n",
    "        <ul>\n",
    "            <li>Hex: #146EB4</li>\n",
    "            <li>RGB: (20, 110, 180)</li>\n",
    "            <li>CMYK: 0.888, 0.388, 0, 0.294</li>\n",
    "        </ul>\n",
    "    </li>\n",
    "</ol>\n",
    "\n",
    "<br/>\n",
    "    \n",
    "<b style=\"font-size: 20px; color: #146EB4; text-align: justify; font-family: Blogger Sans; margin: 10px;\">References: </b>\n",
    "<ol>\n",
    "    <li style=\"font-size: 18px; color: #131A22; font-family: Adobe Clean SemiLight; margin: 10px;\">\n",
    "        SchemeColor, \"Amazon Orange and Blue Color Scheme.\" SchemeColor.com. https://www.schemecolor.com/amazon-orange-blue.php. (Accessed: Oct. 29, 2023).\n",
    "    </li>\n",
    "    <li style=\"font-size: 18px; color: #131A22; font-family: Adobe Clean SemiLight; margin: 10px;\">\n",
    "        SchemeColor. \"Amazon Website Color Schemes.\" ShcemeColors.com. https://www.schemecolor.com/amazon-website-colors.php. (Accessed: Oct. 29, 2023).\n",
    "    </li>\n",
    "    <li style=\"font-size: 18px; color: #131A22; font-family: Adobe Clean SemiLight; margin: 10px;\">\n",
    "        R. Odhin, \"List of Emojis HEX/HTML Codes.\" DEV Community (Posted on: Jan. 24, 2022). https://dev.to/rodrigoodhin/list-of-emojis-hex-codes-35ma. (Accessed: Oct. 29, 2023).\n",
    "    </li>\n",
    "</ol>\n",
    "</div>"
   ]
  }
 ],
 "metadata": {
  "kernelspec": {
   "display_name": "Python 3 (ipykernel)",
   "language": "python",
   "name": "python3"
  },
  "language_info": {
   "codemirror_mode": {
    "name": "ipython",
    "version": 3
   },
   "file_extension": ".py",
   "mimetype": "text/x-python",
   "name": "python",
   "nbconvert_exporter": "python",
   "pygments_lexer": "ipython3",
   "version": "3.11.5"
  }
 },
 "nbformat": 4,
 "nbformat_minor": 5
}
