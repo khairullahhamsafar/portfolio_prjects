{
 "cells": [
  {
   "cell_type": "markdown",
   "id": "edb2c877",
   "metadata": {},
   "source": [
    "<div style=\"border: 1px solid; color: #FF9900; background-color: #FF9900;\">\n",
    "    <center><img src=\"img/Amazon_02.jpg\"></center>\n",
    "    <h1 style=\"font-size: 26px bold; color: #232F3E; text-align: center; font-family: Blogger Sans; margin: 10px; border: 5px solid; border-radius: 5px; padding: 15px;\">\n",
    "    &#129367; Amazon Products Reviews Sentiment Analysis &#128007;\n",
    "</h1>\n",
    "</div>\n",
    "<br/>"
   ]
  },
  {
   "cell_type": "markdown",
   "id": "11481156",
   "metadata": {},
   "source": [
    "<div style=\"border: 1px solid; color: #FF9900;\">\n",
    "    \n",
    "<div style=\"border: 1px solid; color: #FF9900; background-color: #FF9900;\">\n",
    "    <h2 style=\"font-size: 26px bold; color: #232F3E; text-align: justify; font-family: Blogger Sans; margin: 10px; border: 5px solid; border-radius: 5px; padding: 15px;\">\n",
    "    &#128221; Table of Content\n",
    "        </h2>\n",
    "</div>\n",
    "    \n",
    "<ol>\n",
    "    <li style=\"font-size: 18px; color: #146EB4; text-align: justify; text-decoration: none; font-family: Calibri (Body); margin: 10px;\">\n",
    "        Introduction\n",
    "    </li>    \n",
    "    <li style=\"font-size: 18px; color: #146EB4; text-align: justify; text-decoration: none; font-family: Calibri (Body); margin: 10px;\">\n",
    "        Data Cleaning and Preprocessing\n",
    "    </li>\n",
    "    <li style=\"font-size: 18px; color: #146EB4; text-align: justify; text-decoration: none; font-family: Calibri (Body); margin: 10px;\">\n",
    "        Story Creation and Visualization\n",
    "    </li>\n",
    "    <li style=\"font-size: 18px; color: #146EB4; text-align: justify; text-decoration: none; font-family: Calibri (Body); margin: 10px;\">\n",
    "        Features Extraction\n",
    "    </li>\n",
    "    <li style=\"font-size: 18px; color: #146EB4; text-align: justify; text-decoration: none; font-family: Calibri (Body); margin: 10px;\">\n",
    "        Sentiment Analysis\n",
    "    </li>\n",
    "</ol>\n",
    "</div>"
   ]
  },
  {
   "cell_type": "markdown",
   "id": "f9556084",
   "metadata": {},
   "source": [
    "<div style=\"border: 1px solid; color: #FF9900; padding : 20px; margin: 30px 10px 30px 10px;\">\n",
    "    \n",
    "<div style=\"border: 1px solid; color: #FF9900; background-color: #FF9900;\">\n",
    "    <h1 style=\"font-size: 26px; font-weight: bold; color: #232F3E; text-align: justify; font-family: Blogger Sans; margin: 10px; border: 5px solid; border-radius: 5px; padding: 15px;\">\n",
    "    &#9997; 1. Introduction\n",
    "    </h1>\n",
    "</div>\n",
    "    <p style=\"font-size: 18px; font-weight: normal; font-family: Calibri (Body); text-align: justify; line-height: 30px; letter-spacing: 0.5px; color: #131A22; padding-bottom: 5px;\">\n",
    "        In our daily lives, we encounter a plethora of products, especially in the digital realm, where we navigate through countless choices within a single category. Choosing the right product from this vast array can be an overwhelming task for customers. This is where the significance of 'reviews' comes into play. These reviews, contributed by individuals who have already experienced the product, not only provide a rating but also offer insightful narratives about their personal encounters.\n",
    "    </p>\n",
    "    <p style=\"font-size: 18px; font-weight: normal; font-family: Calibri (Body); text-align: justify; line-height: 30px; letter-spacing: 0.5px; color: #131A22; padding-bottom: 5px;\">\n",
    "        While ratings offer a quick numerical snapshot of a product's overall performance, the true essence lies in the detailed sentence reviews. However, sifting through these reviews to discern the sentiment can be a time-consuming process, demanding careful attention to each line. The advent of Artificial Intelligence, specifically Natural Language Processing (NLP) technology, has revolutionized this landscape.</p>\n",
    "    <p style=\"font-size: 18px; font-weight: normal; font-family: Calibri (Body); text-align: justify; line-height: 30px; letter-spacing: 0.5px; color: #131A22; padding-bottom: 5px;\">\n",
    "        With NLP, the complexity of comprehending lengthy reviews is alleviated as the technology excels in understanding and interpreting human language nuances. It has streamlined the process of distilling valuable information from reviews, empowering consumers to make informed decisions efficiently. In this era of artificial intelligence, the integration of NLP not only simplifies the review-reading process but also enhances the overall consumer experience by providing a more accessible and nuanced understanding of product sentiments.\n",
    "</p>\n",
    "</div>"
   ]
  },
  {
   "cell_type": "code",
   "execution_count": null,
   "id": "339fd8aa",
   "metadata": {},
   "outputs": [],
   "source": []
  },
  {
   "cell_type": "markdown",
   "id": "180b0ac5",
   "metadata": {},
   "source": [
    "<div style=\"border: 1px solid; color: #FF9900;\">\n",
    "    \n",
    "<div style=\"border: 1px solid; color: #FF9900; background-color: #FF9900;\">\n",
    "    <h2 style=\"font-size: 26px bold; color: #232F3E; text-align: justify; font-family: Blogger Sans; margin: 10px; border: 5px solid; border-radius: 5px; padding: 15px;\">\n",
    "    &#127836; 2. Data Cleaning and Preprocessing\n",
    "    </h2>\n",
    "</div>\n",
    "    <p style=\"font-size: 18px; color: #131A22; text-align: justify; font-family: Calibri (Body); margin: 10px;\">\n",
    "    Nowadays, companies recieve feedbacks from his customers regarding his products.\n",
    "</p>\n",
    "</div>"
   ]
  },
  {
   "cell_type": "code",
   "execution_count": null,
   "id": "27b66dae",
   "metadata": {},
   "outputs": [],
   "source": []
  },
  {
   "cell_type": "markdown",
   "id": "35ec059e",
   "metadata": {},
   "source": [
    "<div style=\"border: 1px solid; color: #FF9900;\">\n",
    "    \n",
    "<div style=\"border: 1px solid; color: #FF9900; background-color: #FF9900;\">\n",
    "    <h2 style=\"font-size: 26px bold; color: #232F3E; text-align: justify; font-family: Blogger Sans; margin: 10px; border: 5px solid; border-radius: 5px; padding: 15px;\">\n",
    "    &#128200; 3. Story Creation and Visualization\n",
    "    </h2>\n",
    "</div>\n",
    "    <p style=\"font-size: 18px; color: #131A22; text-align: justify; font-family: Calibri (Body); margin: 10px;\">\n",
    "    Nowadays, companies recieve feedbacks from his customers regarding his products.\n",
    "</p>\n",
    "</div>"
   ]
  },
  {
   "cell_type": "code",
   "execution_count": null,
   "id": "1f5331e7",
   "metadata": {},
   "outputs": [],
   "source": []
  },
  {
   "cell_type": "markdown",
   "id": "db52f1fd",
   "metadata": {},
   "source": [
    "<div style=\"border: 1px solid; color: #FF9900;\">\n",
    "    \n",
    "<div style=\"border: 1px solid; color: #FF9900; background-color: #FF9900;\">\n",
    "    <h2 style=\"font-size: 26px bold; color: #232F3E; text-align: justify; font-family: Blogger Sans; margin: 10px; border: 5px solid; border-radius: 5px; padding: 15px;\">\n",
    "    &#128225; 4. Features Extraction\n",
    "    </h2>\n",
    "</div>\n",
    "    <p style=\"font-size: 18px; color: #131A22; text-align: justify; font-family: Calibri (Body); margin: 10px;\">\n",
    "    Nowadays, companies recieve feedbacks from his customers regarding his products.\n",
    "</p>\n",
    "</div>"
   ]
  },
  {
   "cell_type": "code",
   "execution_count": null,
   "id": "0681dfa7",
   "metadata": {},
   "outputs": [],
   "source": []
  },
  {
   "cell_type": "markdown",
   "id": "a6be9c88",
   "metadata": {},
   "source": [
    "<div style=\"border: 1px solid; color: #FF9900;\">\n",
    "    \n",
    "<div style=\"border: 1px solid; color: #FF9900; background-color: #FF9900;\">\n",
    "    <h2 style=\"font-size: 26px bold; color: #232F3E; text-align: justify; font-family: Blogger Sans; margin: 10px; border: 5px solid; border-radius: 5px; padding: 15px;\">\n",
    "    &#129422; 5. Sentiment Analysis\n",
    "    </h2>\n",
    "</div>\n",
    "    <p style=\"font-size: 18px; color: #131A22; text-align: justify; font-family: Calibri (Body); margin: 10px;\">\n",
    "    Nowadays, companies recieve feedbacks from his customers regarding his products.\n",
    "    </p>\n",
    "</div>"
   ]
  },
  {
   "cell_type": "markdown",
   "id": "cd224ec3",
   "metadata": {},
   "source": [
    "<h2  style=\"font-size: 20px; color: #146EB4; text-align: justify; font-family: Calibri; margin: 10px;\">\n",
    "    &#128260; Loading Dataset into DataFrame.\n",
    "</h2>"
   ]
  },
  {
   "cell_type": "markdown",
   "id": "2067fb2e",
   "metadata": {},
   "source": [
    "<h2  style=\"font-size: 22px bold; color: #b50061; text-align: justify; font-family: Blogger Sans; margin: 10px 10px 0px 10px; border-bottom: 5px solid; border-radius: 5px; padding-bottom: 0px; width: 250px;\" id=\"sentiment-analysis\">\n",
    "    &#129422; 5. Sentiment Analysis\n",
    "</h2>\n",
    "\n",
    "<p style=\"font-size: 18px; color: #00144f; text-align: justify; font-family: Calibri (Body); margin: 10px;\">\n",
    "    Nowadays, companies recieve feedbacks from his customers regarding his products.\n",
    "</p>"
   ]
  },
  {
   "cell_type": "markdown",
   "id": "c59f8333",
   "metadata": {},
   "source": [
    "<div style=\"border: 1px solid; color: #FF9900;\">\n",
    "    \n",
    "<div style=\"border: 1px solid; color: #FF9900; background-color: #FF9900;\">\n",
    "    <h2 style=\"font-size: 26px bold; color: #131A22; text-align: justify; font-family: Blogger Sans; margin: 10px; border: 5px solid; border-radius: 5px; padding: 15px;\">\n",
    "    &#128200; Design Colors Scheme and Emojis Information\n",
    "    </h2>\n",
    "</div>\n",
    "\n",
    "<p style=\"font-size: 18px; color: #131A22; text-align: justify; font-family: Calibri (Body); margin: 10px;\">\n",
    "    I have used some Emojis and Colors for the designing purposes in my project. I have chosen different Emojis from DEV Community[3] website and four standard colors of Amazon's brand from SchemeColor website. References regarding these emojis and colors are properly cited in the last. And the neccessory information regarding Amazon's standard colors are the following:\n",
    "</p>\n",
    "\n",
    "<ol>\n",
    "    <li style=\"font-size: 18px; color: #FF9900; text-align: justify; font-family: Adobe Clean SemiLight; margin: 10px;\">Vivid Gamboge [1]\n",
    "        <ul>\n",
    "            <li>Hex: #FF9900</li>\n",
    "            <li>RGB: (255, 153, 0)</li>\n",
    "            <li>CMYK: 0, 0.4, 1, 0</li>\n",
    "        </ul>\n",
    "    </li>\n",
    "    <li style=\"font-size: 18px; color: #232F3E; text-align: justify; font-family: Adobe Clean SemiLight; margin: 10px;\">Gunmetal [2]\n",
    "        <ul>\n",
    "            <li>Hex: #232F3E</li>\n",
    "            <li>RGB: (35, 47, 62)</li>\n",
    "            <li>CMYK: 0.435, 0.241, 0, 0.756</li>\n",
    "        </ul>\n",
    "    </li>\n",
    "    <li style=\"font-size: 18px; color: #131A22; text-align: justify; font-family: Adobe Clean SemiLight; margin: 10px;\">Eerie Black [2]\n",
    "        <ul>\n",
    "            <li>Hex: #131A22</li>\n",
    "            <li>RGB: (19, 26, 34)</li>\n",
    "            <li>CMYK: 0.441, 0.235, 0, 0.866</li>\n",
    "        </ul>\n",
    "    </li>\n",
    "    <li style=\"font-size: 18px; color: #146EB4; text-align: justify; font-family: Adobe Clean SemiLight; margin: 10px;\">Green-Blue [1]\n",
    "        <ul>\n",
    "            <li>Hex: #146EB4</li>\n",
    "            <li>RGB: (20, 110, 180)</li>\n",
    "            <li>CMYK: 0.888, 0.388, 0, 0.294</li>\n",
    "        </ul>\n",
    "    </li>\n",
    "</ol>\n",
    "\n",
    "<br/>\n",
    "    \n",
    "<b style=\"font-size: 20px; color: #146EB4; text-align: justify; font-family: Blogger Sans; margin: 10px;\">References: </b>\n",
    "<ol>\n",
    "    <li style=\"font-size: 18px; color: #131A22; font-family: Adobe Clean SemiLight; margin: 10px;\">\n",
    "        SchemeColor, \"Amazon Orange and Blue Color Scheme.\" SchemeColor.com. https://www.schemecolor.com/amazon-orange-blue.php. (Accessed: Oct. 29, 2023).\n",
    "    </li>\n",
    "    <li style=\"font-size: 18px; color: #131A22; font-family: Adobe Clean SemiLight; margin: 10px;\">\n",
    "        SchemeColor. \"Amazon Website Color Schemes.\" ShcemeColors.com. https://www.schemecolor.com/amazon-website-colors.php. (Accessed: Oct. 29, 2023).\n",
    "    </li>\n",
    "    <li style=\"font-size: 18px; color: #131A22; font-family: Adobe Clean SemiLight; margin: 10px;\">\n",
    "        R. Odhin, \"List of Emojis HEX/HTML Codes.\" DEV Community (Posted on: Jan. 24, 2022). https://dev.to/rodrigoodhin/list-of-emojis-hex-codes-35ma. (Accessed: Oct. 29, 2023).\n",
    "    </li>\n",
    "</ol>\n",
    "</div>"
   ]
  }
 ],
 "metadata": {
  "kernelspec": {
   "display_name": "Python 3 (ipykernel)",
   "language": "python",
   "name": "python3"
  },
  "language_info": {
   "codemirror_mode": {
    "name": "ipython",
    "version": 3
   },
   "file_extension": ".py",
   "mimetype": "text/x-python",
   "name": "python",
   "nbconvert_exporter": "python",
   "pygments_lexer": "ipython3",
   "version": "3.11.5"
  }
 },
 "nbformat": 4,
 "nbformat_minor": 5
}
