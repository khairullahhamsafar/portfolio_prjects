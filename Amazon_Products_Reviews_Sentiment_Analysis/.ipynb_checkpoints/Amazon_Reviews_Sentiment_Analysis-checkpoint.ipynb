{
 "cells": [
  {
   "cell_type": "markdown",
   "id": "edb2c877",
   "metadata": {},
   "source": [
    "<div style=\"border: 1px solid; color: #FF9900; background-color: #FF9900;\">\n",
    "    <center><img src=\"img/Amazon_02.jpg\"></center>\n",
    "<h1 style=\"font-size: 26px bold; color: #232F3E; text-align: center; font-family: Blogger Sans; margin: 10px; border: 5px solid; border-radius: 5px; padding: 15px;\">&#129367; Amazon Products Reviews Sentiment Analysis &#128007;\n",
    "</h1>\n",
    "</div>\n",
    "<br/>"
   ]
  },
  {
   "cell_type": "markdown",
   "id": "11481156",
   "metadata": {},
   "source": [
    "<div style=\"border: 1px solid; color: #FF9900;\">\n",
    "    \n",
    "<div style=\"border: 1px solid; color: #FF9900; background-color: #FF9900;\">\n",
    "<h1 style=\"font-size: 26px bold; color: #232F3E; text-align: justify; font-family: Blogger Sans; margin: 10px; border: 5px solid; border-radius: 5px; padding: 15px;\">&#128221; Table of Content</h1>\n",
    "</div>\n",
    "    \n",
    "<ol>\n",
    "    <li style=\"font-size: 18px; color: #146EB4; text-align: justify; text-decoration: none; font-family: Calibri (Body); margin: 10px;\">\n",
    "        Introduction\n",
    "    </li>    \n",
    "    <li style=\"font-size: 18px; color: #146EB4; text-align: justify; text-decoration: none; font-family: Calibri (Body); margin: 10px;\">\n",
    "        Data Cleaning and Preprocessing\n",
    "    </li>\n",
    "    <li style=\"font-size: 18px; color: #146EB4; text-align: justify; text-decoration: none; font-family: Calibri (Body); margin: 10px;\">\n",
    "        Story Creation and Visualization\n",
    "    </li>\n",
    "    <li style=\"font-size: 18px; color: #146EB4; text-align: justify; text-decoration: none; font-family: Calibri (Body); margin: 10px;\">\n",
    "        Features Extraction\n",
    "    </li>\n",
    "    <li style=\"font-size: 18px; color: #146EB4; text-align: justify; text-decoration: none; font-family: Calibri (Body); margin: 10px;\">\n",
    "        Sentiment Analysis\n",
    "    </li>\n",
    "</ol>\n",
    "</div>"
   ]
  },
  {
   "cell_type": "markdown",
   "id": "f9556084",
   "metadata": {},
   "source": [
    "<div style=\"border: 1px solid; color: #FF9900; padding : 20px; margin: 30px 10px 30px 10px;\">\n",
    "    \n",
    "<div style=\"border: 1px solid; color: #FF9900; background-color: #FF9900;\">\n",
    "<h1 style=\"font-size: 26px; font-weight: bold; color: #232F3E; text-align: justify; font-family: Blogger Sans; margin: 10px; border: 5px solid; border-radius: 5px; padding: 15px;\">&#9997; 1. Introduction</h1>\n",
    "</div>\n",
    "    <h2 style=\"font-family: Calibri (Body); font-size: 24px; font-weight: bold; text-decoration: none; text-transform: none; margin-bottom: 0em; letter-spacing: 2px; color: #146EB4; background-color: #ffffff;\">1.1. Overview</h2>\n",
    "    <p style=\"font-size: 18px; font-weight: normal; font-family: Calibri (Body); text-align: justify; line-height: 30px; letter-spacing: 0.5px; color: #131A22; padding-bottom: 5px;\">\n",
    "        In our daily lives, we encounter a plethora of products, especially in the digital realm, where we navigate through countless choices within a single category. Choosing the right product from this vast array can be an overwhelming task for customers. This is where the significance of 'reviews' comes into play. These reviews, contributed by individuals who have already experienced the product, not only provide a rating but also offer insightful narratives about their personal encounters.\n",
    "    </p>\n",
    "    <p style=\"font-size: 18px; font-weight: normal; font-family: Calibri (Body); text-align: justify; line-height: 30px; letter-spacing: 0.5px; color: #131A22; padding-bottom: 5px;\">\n",
    "        While ratings offer a quick numerical snapshot of a product's overall performance, the true essence lies in the detailed sentence reviews. However, sifting through these reviews to discern the sentiment can be a time-consuming process, demanding careful attention to each line. The advent of Artificial Intelligence, specifically Natural Language Processing (NLP) technology, has revolutionized this landscape.</p>\n",
    "    <p style=\"font-size: 18px; font-weight: normal; font-family: Calibri (Body); text-align: justify; line-height: 30px; letter-spacing: 0.5px; color: #131A22; padding-bottom: 5px;\">\n",
    "        With NLP, the complexity of comprehending lengthy reviews is alleviated as the technology excels in understanding and interpreting human language nuances. It has streamlined the process of distilling valuable information from reviews, empowering consumers to make informed decisions efficiently. In this era of artificial intelligence, the integration of NLP not only simplifies the review-reading process but also enhances the overall consumer experience by providing a more accessible and nuanced understanding of product sentiments.\n",
    "</p>\n",
    "\n",
    "<h2 style=\"font-family: Calibri (Body); font-size: 24px; font-weight: bold; text-decoration: none; text-transform: none; margin-bottom: 0em; letter-spacing: 2px; color: #146EB4; background-color: #ffffff;\">1.2. Problem Statement</h2>\n",
    "    <p style=\"font-size: 18px; font-weight: normal; font-family: Calibri (Body); text-align: justify; line-height: 30px; letter-spacing: 0.5px; color: #131A22; padding-bottom: 5px;\">ISRO has identified a critical need to enhance its understanding of customer feedback received through web portals, particularly on platforms like Bhuvan. The sheer volume of feedback generated poses a significant challenge, requiring an efficient solution to categorize and analyze opinions expressed by users. The objective is to establish a robust feedback management system that involves the classification of individual comments and reviews.</p>\n",
    "    <p style=\"font-size: 18px; font-weight: normal; font-family: Calibri (Body); text-align: justify; line-height: 30px; letter-spacing: 0.5px; color: #131A22; padding-bottom: 5px;\">The primary focus is on implementing a system capable of determining an overall rating based on the analysis of individual comments and reviews. This strategic approach aims to provide the organization with a comprehensive insight into customer feedback, allowing for targeted improvements in specific areas highlighted by users. The ultimate goal is to foster customer loyalty, resulting in increased business, enhanced brand value, heightened fame, and improved profits.</p>\n",
    "    <p style=\"font-size: 18px; font-weight: normal; font-family: Calibri (Body); text-align: justify; line-height: 30px; letter-spacing: 0.5px; color: #131A22; padding-bottom: 5px;\">By leveraging advanced classification techniques, ISRO aims to streamline the process of mining valuable insights from customer feedback. This not only facilitates a more nuanced understanding of user sentiments but also empowers the organization to address specific concerns promptly. The successful implementation of this feedback management system promises a positive impact on customer satisfaction, ultimately contributing to the sustained growth and success of the organization.</p>\n",
    "\n",
    "<h2 style=\"font-family: Calibri (Body); font-size: 24px; font-weight: bold; text-decoration: none; text-transform: none; margin-bottom: 0em; letter-spacing: 2px; color: #146EB4; background-color: #ffffff;\">1.3. Objectives</h2>\n",
    "    <ul style=\"margin: 12px 0px 0px 12px; font-size: 18px; font-weight: normal; font-family: Calibri (Body); text-align: justify; line-height: 30px; letter-spacing: 0.5px; color: #131A22;\">\n",
    "        <li style=\"font-size: 18px; padding-bottom: 10px;\">To review, preprocess, and clean customer reviews, ensuring the elimination of irrelevant information and noise for enhanced data quality.</li>\n",
    "        <li style=\"font-size: 18px; padding-bottom: 10px;\">To visualize and craft compelling stories from the processed reviews, providing a comprehensive overview of customer sentiments and experiences.</li>\n",
    "        <li style=\"font-size: 18px; padding-bottom: 10px;\">To extract meaningful features from the cleaned reviews, enabling a deeper understanding of the key elements that contribute to positive or negative feedback.</li>\n",
    "        <li style=\"font-size: 18px; padding-bottom: 10px;\">To build a robust model for sentiment analysis, utilizing advanced techniques to accurately categorize customer sentiments expressed in the reviews.</li>\n",
    "    </ul>\n",
    "</div>"
   ]
  },
  {
   "cell_type": "markdown",
   "id": "180b0ac5",
   "metadata": {},
   "source": [
    "<div style=\"border: 1px solid; color: #FF9900;\">\n",
    "    \n",
    "<div style=\"border: 1px solid; color: #FF9900; background-color: #FF9900;\">\n",
    "<h1 style=\"font-size: 26px bold; color: #232F3E; text-align: justify; font-family: Blogger Sans; margin: 10px; border: 5px solid; border-radius: 5px; padding: 15px;\">&#127836; 2. Data Cleaning and Preprocessing</h1>\n",
    "</div>\n",
    "</div>"
   ]
  },
  {
   "cell_type": "markdown",
   "id": "2b8e6831",
   "metadata": {},
   "source": [
    "<h2  style=\"font-size: 22px; font-weight: bold; color: #b50061; text-align: justify; font-family: Blogger Sans; margin: 10px; border-bottom: 5px solid; border-radius: 5px; margin-bottom: 0px; padding-bottom: 20px;\" id=\"sentiment-analysis\">2.1. Importing Necessary Libraries</h2>"
   ]
  },
  {
   "cell_type": "code",
   "execution_count": 1,
   "id": "988d17b2",
   "metadata": {},
   "outputs": [],
   "source": [
    "import re\n",
    "import nltk\n",
    "import string\n",
    "import sklearn\n",
    "import warnings\n",
    "import numpy as np\n",
    "import pandas as pd\n",
    "import seaborn as sns\n",
    "import cufflinks as cf\n",
    "from plotly import tools\n",
    "from scipy import interp\n",
    "from itertools import cycle\n",
    "from textblob import TextBlob\n",
    "import plotly.graph_objs as go\n",
    "import matplotlib.pyplot as plt\n",
    "from matplotlib import rcParams\n",
    "from plotly.offline import iplot\n",
    "\n",
    "from collections import defaultdict, Counter\n",
    "from imblearn.over_sampling import SMOTE\n",
    "\n",
    "from wordcloud import WordCloud,STOPWORDS\n",
    "from nltk.stem.porter import PorterStemmer\n",
    "from sklearn.feature_extraction.text import TfidfVectorizer\n",
    "\n",
    "from sklearn import svm, datasets\n",
    "from sklearn.svm import SVC\n",
    "from sklearn import preprocessing \n",
    "from sklearn.preprocessing import LabelEncoder, StandardScaler, MinMaxScaler, label_binarize\n",
    "from sklearn import metrics\n",
    "from sklearn.metrics import classification_report, roc_auc_score, roc_curve, auc\n",
    "from sklearn.ensemble import ExtraTreesClassifier, RandomForestClassifier\n",
    "from sklearn.pipeline import make_pipeline, Pipeline\n",
    "from sklearn.model_selection import GridSearchCV, train_test_split, cross_val_score\n",
    "from sklearn.linear_model import LogisticRegression\n",
    "from sklearn.tree import DecisionTreeClassifier\n",
    "from sklearn.naive_bayes import BernoulliNB \n",
    "from sklearn.neighbors import KNeighborsClassifier\n",
    "from sklearn.multiclass import OneVsRestClassifier"
   ]
  },
  {
   "cell_type": "code",
   "execution_count": 2,
   "id": "d7001147",
   "metadata": {},
   "outputs": [],
   "source": [
    "warnings.filterwarnings('ignore')\n",
    "%matplotlib inline"
   ]
  },
  {
   "cell_type": "markdown",
   "id": "35ec059e",
   "metadata": {},
   "source": [
    "<div style=\"border: 1px solid; color: #FF9900;\">\n",
    "    \n",
    "<div style=\"border: 1px solid; color: #FF9900; background-color: #FF9900;\">\n",
    "<h1 style=\"font-size: 26px bold; color: #232F3E; text-align: justify; font-family: Blogger Sans; margin: 10px; border: 5px solid; border-radius: 5px; padding: 15px;\">&#128200; 3. Story Creation and Visualization</h1>\n",
    "</div>\n",
    "    <p style=\"font-size: 18px; color: #131A22; text-align: justify; font-family: Calibri (Body); margin: 10px;\">\n",
    "    Nowadays, companies recieve feedbacks from his customers regarding his products.\n",
    "</p>\n",
    "</div>"
   ]
  },
  {
   "cell_type": "code",
   "execution_count": null,
   "id": "1f5331e7",
   "metadata": {},
   "outputs": [],
   "source": []
  },
  {
   "cell_type": "markdown",
   "id": "db52f1fd",
   "metadata": {},
   "source": [
    "<div style=\"border: 1px solid; color: #FF9900;\">\n",
    "    \n",
    "<div style=\"border: 1px solid; color: #FF9900; background-color: #FF9900;\">\n",
    "<h1 style=\"font-size: 26px bold; color: #232F3E; text-align: justify; font-family: Blogger Sans; margin: 10px; border: 5px solid; border-radius: 5px; padding: 15px;\">&#128225; 4. Features Extraction</h1>\n",
    "</div>\n",
    "    <p style=\"font-size: 18px; color: #131A22; text-align: justify; font-family: Calibri (Body); margin: 10px;\">\n",
    "    Nowadays, companies recieve feedbacks from his customers regarding his products.\n",
    "</p>\n",
    "</div>"
   ]
  },
  {
   "cell_type": "code",
   "execution_count": null,
   "id": "0681dfa7",
   "metadata": {},
   "outputs": [],
   "source": []
  },
  {
   "cell_type": "markdown",
   "id": "a6be9c88",
   "metadata": {},
   "source": [
    "<div style=\"border: 1px solid; color: #FF9900;\">\n",
    "    \n",
    "<div style=\"border: 1px solid; color: #FF9900; background-color: #FF9900;\">\n",
    "<h1 style=\"font-size: 26px bold; color: #232F3E; text-align: justify; font-family: Blogger Sans; margin: 10px; border: 5px solid; border-radius: 5px; padding: 15px;\">&#129422; 5. Sentiment Analysis</h1>\n",
    "</div>\n",
    "    <p style=\"font-size: 18px; color: #131A22; text-align: justify; font-family: Calibri (Body); margin: 10px;\">\n",
    "    Nowadays, companies recieve feedbacks from his customers regarding his products.\n",
    "    </p>\n",
    "</div>"
   ]
  },
  {
   "cell_type": "markdown",
   "id": "cd224ec3",
   "metadata": {},
   "source": [
    "<h2  style=\"font-size: 20px; color: #146EB4; text-align: justify; font-family: Calibri; margin: 10px;\">\n",
    "    &#128260; Loading Dataset into DataFrame.\n",
    "</h2>"
   ]
  },
  {
   "cell_type": "markdown",
   "id": "2067fb2e",
   "metadata": {},
   "source": [
    "<h2  style=\"font-size: 22px bold; color: #b50061; text-align: justify; font-family: Blogger Sans; margin: 10px; border-bottom: 5px solid; border-radius: 5px; margin-bottom: 20px; padding-bottom: 20px;\" id=\"sentiment-analysis\">\n",
    "    &#129422; 5. Sentiment Analysis\n",
    "</h2>\n",
    "\n",
    "<p style=\"font-size: 18px; color: #00144f; text-align: justify; font-family: Calibri (Body); margin: 10px;\">\n",
    "    Nowadays, companies recieve feedbacks from his customers regarding his products.\n",
    "</p>"
   ]
  },
  {
   "cell_type": "markdown",
   "id": "c59f8333",
   "metadata": {},
   "source": [
    "<div style=\"border: 1px solid; color: #FF9900;\">\n",
    "    \n",
    "<div style=\"border: 1px solid; color: #FF9900; background-color: #FF9900;\">\n",
    "<h1 style=\"font-size: 26px bold; color: #131A22; text-align: justify; font-family: Blogger Sans; margin: 10px; border: 5px solid; border-radius: 5px; padding: 15px;\">&#128200; Design Colors Scheme and Emojis Information</h1>\n",
    "</div>\n",
    "\n",
    "<p style=\"font-size: 18px; color: #131A22; text-align: justify; font-family: Calibri (Body); margin: 10px;\">\n",
    "    I have used some Emojis and Colors for the designing purposes in my project. I have chosen different Emojis from DEV Community[3] website and four standard colors of Amazon's brand from SchemeColor website. References regarding these emojis and colors are properly cited in the last. And the neccessory information regarding Amazon's standard colors are the following:\n",
    "</p>\n",
    "\n",
    "<ol>\n",
    "    <li style=\"font-size: 18px; color: #FF9900; text-align: justify; font-family: Adobe Clean SemiLight; margin: 10px;\">Vivid Gamboge [1]\n",
    "        <ul>\n",
    "            <li>Hex: #FF9900</li>\n",
    "            <li>RGB: (255, 153, 0)</li>\n",
    "            <li>CMYK: 0, 0.4, 1, 0</li>\n",
    "        </ul>\n",
    "    </li>\n",
    "    <li style=\"font-size: 18px; color: #232F3E; text-align: justify; font-family: Adobe Clean SemiLight; margin: 10px;\">Gunmetal [2]\n",
    "        <ul>\n",
    "            <li>Hex: #232F3E</li>\n",
    "            <li>RGB: (35, 47, 62)</li>\n",
    "            <li>CMYK: 0.435, 0.241, 0, 0.756</li>\n",
    "        </ul>\n",
    "    </li>\n",
    "    <li style=\"font-size: 18px; color: #131A22; text-align: justify; font-family: Adobe Clean SemiLight; margin: 10px;\">Eerie Black [2]\n",
    "        <ul>\n",
    "            <li>Hex: #131A22</li>\n",
    "            <li>RGB: (19, 26, 34)</li>\n",
    "            <li>CMYK: 0.441, 0.235, 0, 0.866</li>\n",
    "        </ul>\n",
    "    </li>\n",
    "    <li style=\"font-size: 18px; color: #146EB4; text-align: justify; font-family: Adobe Clean SemiLight; margin: 10px;\">Green-Blue [1]\n",
    "        <ul>\n",
    "            <li>Hex: #146EB4</li>\n",
    "            <li>RGB: (20, 110, 180)</li>\n",
    "            <li>CMYK: 0.888, 0.388, 0, 0.294</li>\n",
    "        </ul>\n",
    "    </li>\n",
    "</ol>\n",
    "\n",
    "<br/>\n",
    "    \n",
    "<b style=\"font-size: 20px; color: #146EB4; text-align: justify; font-family: Blogger Sans; margin: 10px;\">References: </b>\n",
    "<ol>\n",
    "    <li style=\"font-size: 18px; color: #131A22; font-family: Adobe Clean SemiLight; margin: 10px;\">\n",
    "        SchemeColor, \"Amazon Orange and Blue Color Scheme.\" SchemeColor.com. https://www.schemecolor.com/amazon-orange-blue.php. (Accessed: Oct. 29, 2023).\n",
    "    </li>\n",
    "    <li style=\"font-size: 18px; color: #131A22; font-family: Adobe Clean SemiLight; margin: 10px;\">\n",
    "        SchemeColor. \"Amazon Website Color Schemes.\" ShcemeColors.com. https://www.schemecolor.com/amazon-website-colors.php. (Accessed: Oct. 29, 2023).\n",
    "    </li>\n",
    "    <li style=\"font-size: 18px; color: #131A22; font-family: Adobe Clean SemiLight; margin: 10px;\">\n",
    "        R. Odhin, \"List of Emojis HEX/HTML Codes.\" DEV Community (Posted on: Jan. 24, 2022). https://dev.to/rodrigoodhin/list-of-emojis-hex-codes-35ma. (Accessed: Oct. 29, 2023).\n",
    "    </li>\n",
    "</ol>\n",
    "</div>"
   ]
  }
 ],
 "metadata": {
  "kernelspec": {
   "display_name": "Python 3 (ipykernel)",
   "language": "python",
   "name": "python3"
  },
  "language_info": {
   "codemirror_mode": {
    "name": "ipython",
    "version": 3
   },
   "file_extension": ".py",
   "mimetype": "text/x-python",
   "name": "python",
   "nbconvert_exporter": "python",
   "pygments_lexer": "ipython3",
   "version": "3.11.5"
  }
 },
 "nbformat": 4,
 "nbformat_minor": 5
}
