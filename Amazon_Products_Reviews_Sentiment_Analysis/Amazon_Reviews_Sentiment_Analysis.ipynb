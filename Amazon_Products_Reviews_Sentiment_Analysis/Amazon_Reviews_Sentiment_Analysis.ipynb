{
 "cells": [
  {
   "cell_type": "markdown",
   "id": "edb2c877",
   "metadata": {},
   "source": [
    "<div style=\"border: 1px solid; color: #FF9900; background-color: #FF9900;\">\n",
    "    <center><img src=\"img/Amazon_02.jpg\"></center>\n",
    "<h1 style=\"font-size: 26px bold; color: #232F3E; text-align: center; font-family: Blogger Sans; margin: 10px; border: 5px solid; border-radius: 5px; padding: 15px;\">&#129367; Amazon Products Reviews Sentiment Analysis &#128007;\n",
    "</h1>\n",
    "</div>\n",
    "<br/>"
   ]
  },
  {
   "cell_type": "markdown",
   "id": "11481156",
   "metadata": {},
   "source": [
    "<div style=\"border: 1px solid; color: #FF9900;\">\n",
    "    \n",
    "<div style=\"border: 1px solid; color: #FF9900; background-color: #FF9900;\">\n",
    "<h1 style=\"font-size: 26px bold; color: #232F3E; text-align: justify; font-family: Blogger Sans; margin: 10px; border: 5px solid; border-radius: 5px; padding: 15px;\">&#128221; Table of Content</h1>\n",
    "</div>\n",
    "    \n",
    "<ol>\n",
    "    <li style=\"font-size: 18px; color: #146EB4; text-align: justify; text-decoration: none; font-family: Calibri (Body); margin: 10px;\">\n",
    "        Introduction\n",
    "    </li>    \n",
    "    <li style=\"font-size: 18px; color: #146EB4; text-align: justify; text-decoration: none; font-family: Calibri (Body); margin: 10px;\">\n",
    "        Data Cleaning and Preprocessing\n",
    "    </li>\n",
    "    <li style=\"font-size: 18px; color: #146EB4; text-align: justify; text-decoration: none; font-family: Calibri (Body); margin: 10px;\">\n",
    "        Story Creation and Visualization\n",
    "    </li>\n",
    "    <li style=\"font-size: 18px; color: #146EB4; text-align: justify; text-decoration: none; font-family: Calibri (Body); margin: 10px;\">\n",
    "        Features Extraction\n",
    "    </li>\n",
    "    <li style=\"font-size: 18px; color: #146EB4; text-align: justify; text-decoration: none; font-family: Calibri (Body); margin: 10px;\">\n",
    "        Sentiment Analysis\n",
    "    </li>\n",
    "</ol>\n",
    "</div>"
   ]
  },
  {
   "cell_type": "markdown",
   "id": "f9556084",
   "metadata": {},
   "source": [
    "<div style=\"border: 1px solid; color: #FF9900; padding : 20px; margin: 30px 10px 30px 10px;\">\n",
    "    \n",
    "<div style=\"border: 1px solid; color: #FF9900; background-color: #FF9900;\">\n",
    "<h1 style=\"font-size: 26px; font-weight: bold; color: #232F3E; text-align: justify; font-family: Blogger Sans; margin: 10px; border: 5px solid; border-radius: 5px; padding: 15px;\">&#9997; 1. Introduction</h1>\n",
    "</div>\n",
    "    <h2 style=\"font-family: Calibri (Body); font-size: 24px; font-weight: bold; text-decoration: none; text-transform: none; margin-bottom: 0em; letter-spacing: 2px; color: #146EB4; background-color: #ffffff;\">1.1. Overview</h2>\n",
    "    <p style=\"font-size: 18px; font-weight: normal; font-family: Calibri (Body); text-align: justify; line-height: 30px; letter-spacing: 0.5px; color: #131A22; padding-bottom: 5px;\">\n",
    "        In our daily lives, we encounter a plethora of products, especially in the digital realm, where we navigate through countless choices within a single category. Choosing the right product from this vast array can be an overwhelming task for customers. This is where the significance of 'reviews' comes into play. These reviews, contributed by individuals who have already experienced the product, not only provide a rating but also offer insightful narratives about their personal encounters.\n",
    "    </p>\n",
    "    <p style=\"font-size: 18px; font-weight: normal; font-family: Calibri (Body); text-align: justify; line-height: 30px; letter-spacing: 0.5px; color: #131A22; padding-bottom: 5px;\">\n",
    "        While ratings offer a quick numerical snapshot of a product's overall performance, the true essence lies in the detailed sentence reviews. However, sifting through these reviews to discern the sentiment can be a time-consuming process, demanding careful attention to each line. The advent of Artificial Intelligence, specifically Natural Language Processing (NLP) technology, has revolutionized this landscape.</p>\n",
    "    <p style=\"font-size: 18px; font-weight: normal; font-family: Calibri (Body); text-align: justify; line-height: 30px; letter-spacing: 0.5px; color: #131A22; padding-bottom: 5px;\">\n",
    "        With NLP, the complexity of comprehending lengthy reviews is alleviated as the technology excels in understanding and interpreting human language nuances. It has streamlined the process of distilling valuable information from reviews, empowering consumers to make informed decisions efficiently. In this era of artificial intelligence, the integration of NLP not only simplifies the review-reading process but also enhances the overall consumer experience by providing a more accessible and nuanced understanding of product sentiments.\n",
    "</p>\n",
    "\n",
    "<h2 style=\"font-family: Calibri (Body); font-size: 24px; font-weight: bold; text-decoration: none; text-transform: none; margin-bottom: 0em; letter-spacing: 2px; color: #146EB4; background-color: #ffffff;\">1.2. Problem Statement</h2>\n",
    "    <p style=\"font-size: 18px; font-weight: normal; font-family: Calibri (Body); text-align: justify; line-height: 30px; letter-spacing: 0.5px; color: #131A22; padding-bottom: 5px;\">ISRO has identified a critical need to enhance its understanding of customer feedback received through web portals, particularly on platforms like Bhuvan. The sheer volume of feedback generated poses a significant challenge, requiring an efficient solution to categorize and analyze opinions expressed by users. The objective is to establish a robust feedback management system that involves the classification of individual comments and reviews.</p>\n",
    "    <p style=\"font-size: 18px; font-weight: normal; font-family: Calibri (Body); text-align: justify; line-height: 30px; letter-spacing: 0.5px; color: #131A22; padding-bottom: 5px;\">The primary focus is on implementing a system capable of determining an overall rating based on the analysis of individual comments and reviews. This strategic approach aims to provide the organization with a comprehensive insight into customer feedback, allowing for targeted improvements in specific areas highlighted by users. The ultimate goal is to foster customer loyalty, resulting in increased business, enhanced brand value, heightened fame, and improved profits.</p>\n",
    "    <p style=\"font-size: 18px; font-weight: normal; font-family: Calibri (Body); text-align: justify; line-height: 30px; letter-spacing: 0.5px; color: #131A22; padding-bottom: 5px;\">By leveraging advanced classification techniques, ISRO aims to streamline the process of mining valuable insights from customer feedback. This not only facilitates a more nuanced understanding of user sentiments but also empowers the organization to address specific concerns promptly. The successful implementation of this feedback management system promises a positive impact on customer satisfaction, ultimately contributing to the sustained growth and success of the organization.</p>\n",
    "\n",
    "<h2 style=\"font-family: Calibri (Body); font-size: 24px; font-weight: bold; text-decoration: none; text-transform: none; margin-bottom: 0em; letter-spacing: 2px; color: #146EB4; background-color: #ffffff;\">1.3. Objectives</h2>\n",
    "    <ul style=\"margin: 12px 0px 0px 12px; font-size: 18px; font-weight: normal; font-family: Calibri (Body); text-align: justify; line-height: 30px; letter-spacing: 0.5px; color: #131A22;\">\n",
    "        <li style=\"font-size: 18px; padding-bottom: 10px;\">To review, preprocess, and clean customer reviews, ensuring the elimination of irrelevant information and noise for enhanced data quality.</li>\n",
    "        <li style=\"font-size: 18px; padding-bottom: 10px;\">To visualize and craft compelling stories from the processed reviews, providing a comprehensive overview of customer sentiments and experiences.</li>\n",
    "        <li style=\"font-size: 18px; padding-bottom: 10px;\">To extract meaningful features from the cleaned reviews, enabling a deeper understanding of the key elements that contribute to positive or negative feedback.</li>\n",
    "        <li style=\"font-size: 18px; padding-bottom: 10px;\">To build a robust model for sentiment analysis, utilizing advanced techniques to accurately categorize customer sentiments expressed in the reviews.</li>\n",
    "    </ul>\n",
    "\n",
    "<h2 style=\"font-family: Calibri (Body); font-size: 24px; font-weight: bold; text-decoration: none; text-transform: none; margin-bottom: 0em; letter-spacing: 2px; color: #146EB4; background-color: #ffffff;\">1.4. About Data</h2>\n",
    "    <p style=\"font-size: 18px; font-weight: normal; font-family: Calibri (Body); text-align: justify; line-height: 30px; letter-spacing: 0.5px; color: #131A22; padding-bottom: 5px;\">The dataset consists of the following columns:</p>\n",
    "    <ul style=\"margin: 12px 0px 0px 12px; font-size: 18px; font-weight: normal; font-family: Calibri (Body); text-align: justify; line-height: 30px; letter-spacing: 0.5px; color: #131A22;\">\n",
    "        <li style=\"font-size: 18px; padding-bottom: 10px;\"><b>reviewerID:</b> ID of the reviewer (e.g., A2SUAM1J3GNN3B).</li>\n",
    "        <li style=\"font-size: 18px; padding-bottom: 10px;\"><b>asin:</b> ID of the product (e.g., 0000013714).</li>\n",
    "        <li style=\"font-size: 18px; padding-bottom: 10px;\"><b>reviewerName:</b> Name of the reviewer.</li>\n",
    "        <li style=\"font-size: 18px; padding-bottom: 10px;\"><b>helpful:</b> Helpfulness rating of the review, represented as a ratio (e.g., 2/3).</li>\n",
    "        <li style=\"font-size: 18px; padding-bottom: 10px;\"><b>reviewText:</b> Text of the review.</li>\n",
    "        <li style=\"font-size: 18px; padding-bottom: 10px;\"><b>overall:</b> Overall rating of the product on a scale of 5.</li>\n",
    "        <li style=\"font-size: 18px; padding-bottom: 10px;\"><b>summary:</b> Summary of the review.</li>\n",
    "        <li style=\"font-size: 18px; padding-bottom: 10px;\"><b>unixReviewTime:</b> Time of the review in Unix timestamp format.</li>\n",
    "        <li style=\"font-size: 18px; padding-bottom: 10px;\"><b>reviewTime:</b> Time of the review in raw format.</li>\n",
    "    </ul>\n",
    "    <p style=\"font-size: 18px; font-weight: normal; font-family: Calibri (Body); text-align: justify; line-height: 30px; letter-spacing: 0.5px; color: #131A22; padding-bottom: 5px;\">These columns provide a comprehensive set of information, including reviewer details, product information, review text, ratings, and timestamps. The dataset is structured to capture key elements necessary for sentiment analysis, feature extraction, and story generation, supporting the project's objectives in understanding and categorizing customer feedback effectively.</p>\n",
    "</div>"
   ]
  },
  {
   "cell_type": "markdown",
   "id": "180b0ac5",
   "metadata": {},
   "source": [
    "<div style=\"border: 1px solid; color: #FF9900;\">\n",
    "    \n",
    "<div style=\"border: 1px solid; color: #FF9900; background-color: #FF9900;\">\n",
    "<h1 style=\"font-size: 26px bold; color: #232F3E; text-align: justify; font-family: Blogger Sans; margin: 10px; border: 5px solid; border-radius: 5px; padding: 15px;\">&#127836; 2. Data Cleaning and Preprocessing</h1>\n",
    "</div>\n",
    "</div>"
   ]
  },
  {
   "cell_type": "markdown",
   "id": "fc826ab5",
   "metadata": {},
   "source": [
    "<h2  style=\"font-size: 22px; font-weight: bold; color: #b50061; text-align: justify; font-family: Blogger Sans; margin: 10px; border-bottom: 5px solid; border-radius: 5px; margin-bottom: 0px; padding-bottom: 20px;\" id=\"sentiment-analysis\">2.1. Importing Necessary Libraries</h2>"
   ]
  },
  {
   "cell_type": "code",
   "execution_count": 1,
   "id": "3e63b148",
   "metadata": {},
   "outputs": [],
   "source": [
    "# Text Processing\n",
    "import string\n",
    "import re\n",
    "from sklearn.feature_extraction.text import TfidfVectorizer\n",
    "from collections import defaultdict, Counter\n",
    "from itertools import cycle\n",
    "\n",
    "# Data Cleaning and Manipulation\n",
    "import numpy as np\n",
    "import pandas as pd\n",
    "from scipy import interp\n",
    "import cufflinks as cf\n",
    "\n",
    "# Natural Language Processing (NLP)\n",
    "import nltk\n",
    "from nltk.stem.porter import PorterStemmer\n",
    "from textblob import TextBlob\n",
    "from wordcloud import WordCloud,STOPWORDS\n",
    "\n",
    "# Machine Learning (ML)\n",
    "import sklearn\n",
    "from sklearn import svm, datasets\n",
    "from sklearn.svm import SVC\n",
    "from sklearn import preprocessing \n",
    "from sklearn.preprocessing import LabelEncoder, StandardScaler, MinMaxScaler, label_binarize\n",
    "from sklearn import metrics\n",
    "from sklearn.metrics import classification_report, roc_auc_score, roc_curve, auc\n",
    "from sklearn.ensemble import ExtraTreesClassifier, RandomForestClassifier\n",
    "from sklearn.pipeline import make_pipeline, Pipeline\n",
    "from sklearn.model_selection import GridSearchCV, train_test_split, cross_val_score\n",
    "from sklearn.linear_model import LogisticRegression\n",
    "from sklearn.tree import DecisionTreeClassifier\n",
    "from sklearn.naive_bayes import BernoulliNB \n",
    "from sklearn.neighbors import KNeighborsClassifier\n",
    "from sklearn.multiclass import OneVsRestClassifier\n",
    "from imblearn.over_sampling import SMOTE\n",
    "\n",
    "# Warnings Control\n",
    "import warnings\n",
    "\n",
    "# Data Visualization\n",
    "import matplotlib.pyplot as plt\n",
    "from matplotlib import rcParams\n",
    "import seaborn as sns\n",
    "import plotly.graph_objs as go\n",
    "from plotly import tools\n",
    "from plotly.offline import iplot"
   ]
  },
  {
   "cell_type": "code",
   "execution_count": 2,
   "id": "07a89a94",
   "metadata": {},
   "outputs": [],
   "source": [
    "warnings.filterwarnings('ignore')\n",
    "%matplotlib inline"
   ]
  },
  {
   "cell_type": "markdown",
   "id": "5fc3c786",
   "metadata": {},
   "source": [
    "<h2  style=\"font-size: 22px; font-weight: bold; color: #b50061; text-align: justify; font-family: Blogger Sans; margin: 10px; border-bottom: 5px solid; border-radius: 5px; margin-bottom: 0px; padding-bottom: 20px;\" id=\"sentiment-analysis\">2.2. Loading Data and DataFrame Conversion</h2>"
   ]
  },
  {
   "cell_type": "code",
   "execution_count": 3,
   "id": "c46efce9",
   "metadata": {},
   "outputs": [],
   "source": [
    "reviewsData = pd.read_csv('Datasets/Musical_instruments_reviews.csv')"
   ]
  },
  {
   "cell_type": "code",
   "execution_count": 4,
   "id": "60d2b02b",
   "metadata": {},
   "outputs": [],
   "source": [
    "df = pd.DataFrame(reviewsData)"
   ]
  },
  {
   "cell_type": "markdown",
   "id": "f0799eea",
   "metadata": {},
   "source": [
    "<h2  style=\"font-size: 22px; font-weight: bold; color: #b50061; text-align: justify; font-family: Blogger Sans; margin: 10px; border-bottom: 5px solid; border-radius: 5px; margin-bottom: 0px; padding-bottom: 20px;\" id=\"sentiment-analysis\">2.3. Concise Summary</h2>"
   ]
  },
  {
   "cell_type": "code",
   "execution_count": 5,
   "id": "7735f2bd",
   "metadata": {},
   "outputs": [
    {
     "data": {
      "text/html": [
       "<div>\n",
       "<style scoped>\n",
       "    .dataframe tbody tr th:only-of-type {\n",
       "        vertical-align: middle;\n",
       "    }\n",
       "\n",
       "    .dataframe tbody tr th {\n",
       "        vertical-align: top;\n",
       "    }\n",
       "\n",
       "    .dataframe thead th {\n",
       "        text-align: right;\n",
       "    }\n",
       "</style>\n",
       "<table border=\"1\" class=\"dataframe\">\n",
       "  <thead>\n",
       "    <tr style=\"text-align: right;\">\n",
       "      <th></th>\n",
       "      <th>reviewerID</th>\n",
       "      <th>asin</th>\n",
       "      <th>reviewerName</th>\n",
       "      <th>helpful</th>\n",
       "      <th>reviewText</th>\n",
       "      <th>overall</th>\n",
       "      <th>summary</th>\n",
       "      <th>unixReviewTime</th>\n",
       "      <th>reviewTime</th>\n",
       "    </tr>\n",
       "  </thead>\n",
       "  <tbody>\n",
       "    <tr>\n",
       "      <th>0</th>\n",
       "      <td>A2IBPI20UZIR0U</td>\n",
       "      <td>1384719342</td>\n",
       "      <td>cassandra tu \"Yeah, well, that's just like, u...</td>\n",
       "      <td>[0, 0]</td>\n",
       "      <td>Not much to write about here, but it does exac...</td>\n",
       "      <td>5.0</td>\n",
       "      <td>good</td>\n",
       "      <td>1393545600</td>\n",
       "      <td>02 28, 2014</td>\n",
       "    </tr>\n",
       "    <tr>\n",
       "      <th>1</th>\n",
       "      <td>A14VAT5EAX3D9S</td>\n",
       "      <td>1384719342</td>\n",
       "      <td>Jake</td>\n",
       "      <td>[13, 14]</td>\n",
       "      <td>The product does exactly as it should and is q...</td>\n",
       "      <td>5.0</td>\n",
       "      <td>Jake</td>\n",
       "      <td>1363392000</td>\n",
       "      <td>03 16, 2013</td>\n",
       "    </tr>\n",
       "    <tr>\n",
       "      <th>2</th>\n",
       "      <td>A195EZSQDW3E21</td>\n",
       "      <td>1384719342</td>\n",
       "      <td>Rick Bennette \"Rick Bennette\"</td>\n",
       "      <td>[1, 1]</td>\n",
       "      <td>The primary job of this device is to block the...</td>\n",
       "      <td>5.0</td>\n",
       "      <td>It Does The Job Well</td>\n",
       "      <td>1377648000</td>\n",
       "      <td>08 28, 2013</td>\n",
       "    </tr>\n",
       "    <tr>\n",
       "      <th>3</th>\n",
       "      <td>A2C00NNG1ZQQG2</td>\n",
       "      <td>1384719342</td>\n",
       "      <td>RustyBill \"Sunday Rocker\"</td>\n",
       "      <td>[0, 0]</td>\n",
       "      <td>Nice windscreen protects my MXL mic and preven...</td>\n",
       "      <td>5.0</td>\n",
       "      <td>GOOD WINDSCREEN FOR THE MONEY</td>\n",
       "      <td>1392336000</td>\n",
       "      <td>02 14, 2014</td>\n",
       "    </tr>\n",
       "    <tr>\n",
       "      <th>4</th>\n",
       "      <td>A94QU4C90B1AX</td>\n",
       "      <td>1384719342</td>\n",
       "      <td>SEAN MASLANKA</td>\n",
       "      <td>[0, 0]</td>\n",
       "      <td>This pop filter is great. It looks and perform...</td>\n",
       "      <td>5.0</td>\n",
       "      <td>No more pops when I record my vocals.</td>\n",
       "      <td>1392940800</td>\n",
       "      <td>02 21, 2014</td>\n",
       "    </tr>\n",
       "  </tbody>\n",
       "</table>\n",
       "</div>"
      ],
      "text/plain": [
       "       reviewerID        asin  \\\n",
       "0  A2IBPI20UZIR0U  1384719342   \n",
       "1  A14VAT5EAX3D9S  1384719342   \n",
       "2  A195EZSQDW3E21  1384719342   \n",
       "3  A2C00NNG1ZQQG2  1384719342   \n",
       "4   A94QU4C90B1AX  1384719342   \n",
       "\n",
       "                                       reviewerName   helpful  \\\n",
       "0  cassandra tu \"Yeah, well, that's just like, u...    [0, 0]   \n",
       "1                                              Jake  [13, 14]   \n",
       "2                     Rick Bennette \"Rick Bennette\"    [1, 1]   \n",
       "3                         RustyBill \"Sunday Rocker\"    [0, 0]   \n",
       "4                                     SEAN MASLANKA    [0, 0]   \n",
       "\n",
       "                                          reviewText  overall  \\\n",
       "0  Not much to write about here, but it does exac...      5.0   \n",
       "1  The product does exactly as it should and is q...      5.0   \n",
       "2  The primary job of this device is to block the...      5.0   \n",
       "3  Nice windscreen protects my MXL mic and preven...      5.0   \n",
       "4  This pop filter is great. It looks and perform...      5.0   \n",
       "\n",
       "                                 summary  unixReviewTime   reviewTime  \n",
       "0                                   good      1393545600  02 28, 2014  \n",
       "1                                   Jake      1363392000  03 16, 2013  \n",
       "2                   It Does The Job Well      1377648000  08 28, 2013  \n",
       "3          GOOD WINDSCREEN FOR THE MONEY      1392336000  02 14, 2014  \n",
       "4  No more pops when I record my vocals.      1392940800  02 21, 2014  "
      ]
     },
     "execution_count": 5,
     "metadata": {},
     "output_type": "execute_result"
    }
   ],
   "source": [
    "df.head()"
   ]
  },
  {
   "cell_type": "code",
   "execution_count": 6,
   "id": "548728a2",
   "metadata": {
    "scrolled": true
   },
   "outputs": [
    {
     "data": {
      "text/plain": [
       "(10261, 9)"
      ]
     },
     "execution_count": 6,
     "metadata": {},
     "output_type": "execute_result"
    }
   ],
   "source": [
    "df.shape"
   ]
  },
  {
   "cell_type": "code",
   "execution_count": 7,
   "id": "6604d912",
   "metadata": {
    "scrolled": true
   },
   "outputs": [
    {
     "name": "stdout",
     "output_type": "stream",
     "text": [
      "<class 'pandas.core.frame.DataFrame'>\n",
      "RangeIndex: 10261 entries, 0 to 10260\n",
      "Data columns (total 9 columns):\n",
      " #   Column          Non-Null Count  Dtype  \n",
      "---  ------          --------------  -----  \n",
      " 0   reviewerID      10261 non-null  object \n",
      " 1   asin            10261 non-null  object \n",
      " 2   reviewerName    10234 non-null  object \n",
      " 3   helpful         10261 non-null  object \n",
      " 4   reviewText      10254 non-null  object \n",
      " 5   overall         10261 non-null  float64\n",
      " 6   summary         10261 non-null  object \n",
      " 7   unixReviewTime  10261 non-null  int64  \n",
      " 8   reviewTime      10261 non-null  object \n",
      "dtypes: float64(1), int64(1), object(7)\n",
      "memory usage: 721.6+ KB\n"
     ]
    }
   ],
   "source": [
    "df.info()"
   ]
  },
  {
   "cell_type": "markdown",
   "id": "29ed46b4",
   "metadata": {},
   "source": [
    "<h2  style=\"font-size: 22px; font-weight: bold; color: #b50061; text-align: justify; font-family: Blogger Sans; margin: 10px; border-bottom: 5px solid; border-radius: 5px; margin-bottom: 0px; padding-bottom: 20px;\" id=\"sentiment-analysis\">2.4. Columns Observation</h2>"
   ]
  },
  {
   "cell_type": "code",
   "execution_count": 8,
   "id": "a26e9478",
   "metadata": {},
   "outputs": [
    {
     "data": {
      "text/plain": [
       "Index(['reviewerID', 'asin', 'reviewerName', 'helpful', 'reviewText',\n",
       "       'overall', 'summary', 'unixReviewTime', 'reviewTime'],\n",
       "      dtype='object')"
      ]
     },
     "execution_count": 8,
     "metadata": {},
     "output_type": "execute_result"
    }
   ],
   "source": [
    "df.columns"
   ]
  },
  {
   "cell_type": "markdown",
   "id": "b951b0ec",
   "metadata": {},
   "source": [
    "<h2  style=\"font-size: 22px; font-weight: bold; color: #b50061; text-align: justify; font-family: Blogger Sans; margin: 10px; border-bottom: 5px solid; border-radius: 5px; margin-bottom: 0px; padding-bottom: 20px;\" id=\"sentiment-analysis\">2.5. NaN and Missing Values Handling</h2>"
   ]
  },
  {
   "cell_type": "code",
   "execution_count": 9,
   "id": "64d40585",
   "metadata": {},
   "outputs": [
    {
     "data": {
      "text/plain": [
       "reviewerID         0\n",
       "asin               0\n",
       "reviewerName      27\n",
       "helpful            0\n",
       "reviewText         7\n",
       "overall            0\n",
       "summary            0\n",
       "unixReviewTime     0\n",
       "reviewTime         0\n",
       "dtype: int64"
      ]
     },
     "execution_count": 9,
     "metadata": {},
     "output_type": "execute_result"
    }
   ],
   "source": [
    "df.isnull().sum()"
   ]
  },
  {
   "cell_type": "markdown",
   "id": "7444ce26",
   "metadata": {},
   "source": [
    "<div style=\"position: relative; background-color: #232F3E; border: 2px solid #fff600; border-radius: 2px; padding : 20px; margin: 30px 10px 30px 10px; font-size: 18px; font-weight: normal; font-family: Calibri (Body); text-align: justify; line-height: 30px; letter-spacing: 1px; color: #fff600;\">\n",
    "    <div style=\"position: absolute; top: -20px; left: 15%; transform: translateX(-50%); background-color: #FF9900; padding: 5px 15px; font-weight: bold; font-size: 20px; color: #232F3E;\">&#128221; Note Pad</div>\n",
    "    <p style=\"font-size: 20px; font-weight: normal; font-family: Calibri; text-align: justify; line-height: 30px; letter-spacing: 1px; color: #fff600;\">\n",
    "        In our dataset, we have encountered null values in both the reviewer names and review text fields. The absence of reviewer names, which are represented by IDs, does not contribute significantly to the project's objectives. Therefore, our primary focus is on the review text. Although there are only 7 instances with null values, instead of opting for a straightforward removal, we propose imputing these missing values and delving into the reasons behind the absence of reviews. This approach could yield valuable insights, allowing us to formulate hypotheses, such as potential correlations with ratings, and enhance our understanding of the underlying factors influencing the non-submission of reviews.\n",
    "    </p>\n",
    "    <p style=\"font-size: 20px; font-weight: normal; font-family: Calibri; text-align: justify; line-height: 30px; letter-spacing: 1px; color: #fff600;\">\n",
    "        <b style=\"font-size: 22px; font-weight: bold; color: #FF9900;\">👉 Hint:</b>\n",
    "        Data imputation: is the substitution of an estimated value that is as realistic as possible for a missing or problematic data item. The substituted value is intended to enable subsequent data analysis to proceed [4].\n",
    "    </p>\n",
    "</div>"
   ]
  },
  {
   "cell_type": "code",
   "execution_count": 10,
   "id": "836478b5",
   "metadata": {},
   "outputs": [],
   "source": [
    "df['reviewText']=df['reviewText'].fillna('Missing')"
   ]
  },
  {
   "cell_type": "code",
   "execution_count": 11,
   "id": "e896d7ea",
   "metadata": {},
   "outputs": [
    {
     "data": {
      "text/plain": [
       "reviewerID         0\n",
       "asin               0\n",
       "reviewerName      27\n",
       "helpful            0\n",
       "reviewText         0\n",
       "overall            0\n",
       "summary            0\n",
       "unixReviewTime     0\n",
       "reviewTime         0\n",
       "dtype: int64"
      ]
     },
     "execution_count": 11,
     "metadata": {},
     "output_type": "execute_result"
    }
   ],
   "source": [
    "df.isnull().sum()"
   ]
  },
  {
   "cell_type": "markdown",
   "id": "45a657e7",
   "metadata": {},
   "source": [
    "<div style=\"position: relative; background-color: #232F3E; border: 2px solid #fff600; border-radius: 2px; padding : 20px; margin: 30px 10px 30px 10px; font-size: 18px; font-weight: normal; font-family: Calibri (Body); text-align: justify; line-height: 30px; letter-spacing: 1px; color: #fff600;\">\n",
    "    <div style=\"position: absolute; top: -20px; left: 15%; transform: translateX(-50%); background-color: #FF9900; padding: 5px 15px; font-weight: bold; font-size: 20px; color: #232F3E;\">&#128221; Note Pad</div>\n",
    "    <p style=\"font-size: 20px; font-weight: normal; font-family: Calibri; text-align: justify; line-height: 30px; letter-spacing: 1px; color: #fff600;\">\n",
    "        Now that we have addressed the null values in the reviews text, let's also address the reviewerName column. While the reviewerName column may not directly contribute to our project objectives, for the sake of learning and enjoyment, I am going to handle it using imputation technique in a unique manner. This exercise will enhance our understanding of handling missing values, providing us valuable skills for potential future scenarios where we might encounter similar situations.\n",
    "    </p>\n",
    "</div>"
   ]
  },
  {
   "cell_type": "code",
   "execution_count": 12,
   "id": "39dd28d8",
   "metadata": {},
   "outputs": [],
   "source": [
    "missing_reviewer_names_df = df[df['reviewerName'].isnull()]"
   ]
  },
  {
   "cell_type": "code",
   "execution_count": 13,
   "id": "fb689991",
   "metadata": {},
   "outputs": [
    {
     "data": {
      "text/html": [
       "<div>\n",
       "<style scoped>\n",
       "    .dataframe tbody tr th:only-of-type {\n",
       "        vertical-align: middle;\n",
       "    }\n",
       "\n",
       "    .dataframe tbody tr th {\n",
       "        vertical-align: top;\n",
       "    }\n",
       "\n",
       "    .dataframe thead th {\n",
       "        text-align: right;\n",
       "    }\n",
       "</style>\n",
       "<table border=\"1\" class=\"dataframe\">\n",
       "  <thead>\n",
       "    <tr style=\"text-align: right;\">\n",
       "      <th></th>\n",
       "      <th>reviewerName</th>\n",
       "      <th>reviewerID</th>\n",
       "    </tr>\n",
       "  </thead>\n",
       "  <tbody>\n",
       "    <tr>\n",
       "      <th>41</th>\n",
       "      <td>NaN</td>\n",
       "      <td>AA5TINW2RJ195</td>\n",
       "    </tr>\n",
       "    <tr>\n",
       "      <th>263</th>\n",
       "      <td>NaN</td>\n",
       "      <td>A14VAT5EAX3D9S</td>\n",
       "    </tr>\n",
       "    <tr>\n",
       "      <th>264</th>\n",
       "      <td>NaN</td>\n",
       "      <td>A2RVY2GDMZHH4</td>\n",
       "    </tr>\n",
       "    <tr>\n",
       "      <th>432</th>\n",
       "      <td>NaN</td>\n",
       "      <td>A3BMYEA3J6RBVV</td>\n",
       "    </tr>\n",
       "    <tr>\n",
       "      <th>667</th>\n",
       "      <td>NaN</td>\n",
       "      <td>AA5TINW2RJ195</td>\n",
       "    </tr>\n",
       "  </tbody>\n",
       "</table>\n",
       "</div>"
      ],
      "text/plain": [
       "    reviewerName      reviewerID\n",
       "41           NaN   AA5TINW2RJ195\n",
       "263          NaN  A14VAT5EAX3D9S\n",
       "264          NaN   A2RVY2GDMZHH4\n",
       "432          NaN  A3BMYEA3J6RBVV\n",
       "667          NaN   AA5TINW2RJ195"
      ]
     },
     "execution_count": 13,
     "metadata": {},
     "output_type": "execute_result"
    }
   ],
   "source": [
    "missing_reviewer_names_df[['reviewerName', 'reviewerID']].head()"
   ]
  },
  {
   "cell_type": "code",
   "execution_count": 14,
   "id": "8dea4d5d",
   "metadata": {
    "scrolled": false
   },
   "outputs": [
    {
     "data": {
      "text/plain": [
       "list"
      ]
     },
     "execution_count": 14,
     "metadata": {},
     "output_type": "execute_result"
    }
   ],
   "source": [
    "missing_reviewer_names_ids_list = missing_reviewer_names_df['reviewerID'].tolist()\n",
    "type(missing_reviewer_names_ids_list)"
   ]
  },
  {
   "cell_type": "code",
   "execution_count": 15,
   "id": "6d218830",
   "metadata": {},
   "outputs": [
    {
     "name": "stdout",
     "output_type": "stream",
     "text": [
      "Total missing values: 27\n"
     ]
    }
   ],
   "source": [
    "print(f\"Total missing values: {len(missing_reviewer_names_ids_list)}\")"
   ]
  },
  {
   "cell_type": "code",
   "execution_count": 16,
   "id": "f1f7c336",
   "metadata": {},
   "outputs": [
    {
     "name": "stdout",
     "output_type": "stream",
     "text": [
      "AA5TINW2RJ195\n",
      "A14VAT5EAX3D9S\n",
      "A2RVY2GDMZHH4\n",
      "A3BMYEA3J6RBVV\n",
      "AA5TINW2RJ195\n",
      "A3NHUK1ISMZCFZ\n",
      "A3NK6WKA7GKRZS\n",
      "A2T8JRVJRVNX8R\n",
      "AA5TINW2RJ195\n",
      "A3NHUK1ISMZCFZ\n",
      "AKP6IWJ24C1A5\n",
      "AKP6IWJ24C1A5\n",
      "AKP6IWJ24C1A5\n",
      "AJUXP5GEE2VRP\n",
      "AKP6IWJ24C1A5\n",
      "A3MONHA5DCPPLZ\n",
      "A3NHUK1ISMZCFZ\n",
      "A3NHUK1ISMZCFZ\n",
      "AKP6IWJ24C1A5\n",
      "A3NHUK1ISMZCFZ\n",
      "A38L9I59GH34O0\n",
      "A1WD8RFNIGRPDH\n",
      "A3GSBNVP2LPFRB\n",
      "A3CVZRPQH1PFQ5\n",
      "AA5TINW2RJ195\n",
      "A3NHUK1ISMZCFZ\n",
      "A3NHUK1ISMZCFZ\n"
     ]
    }
   ],
   "source": [
    "for i in missing_reviewer_names_ids_list:\n",
    "    print(i)"
   ]
  },
  {
   "cell_type": "markdown",
   "id": "86d562f6",
   "metadata": {},
   "source": [
    "<div style=\"position: relative; background-color: #232F3E; border: 2px solid #fff600; border-radius: 2px; padding : 20px; margin: 30px 10px 30px 10px; font-size: 18px; font-weight: normal; font-family: Calibri (Body); text-align: justify; line-height: 30px; letter-spacing: 1px; color: #fff600;\">\n",
    "    <div style=\"position: absolute; top: -20px; left: 15%; transform: translateX(-50%); background-color: #FF9900; padding: 5px 15px; font-weight: bold; font-size: 20px; color: #232F3E;\">&#128221; Note Pad</div>\n",
    "    <p style=\"font-size: 20px; font-weight: normal; font-family: Calibri; text-align: justify; line-height: 30px; letter-spacing: 1px; color: #fff600;\">\n",
    "        There are a total of 27 missing values in the reviewerName column. To gain insights into the occurrences of IDs associated with each missing value, we can utilize the Counter function from the collections module. This approach will provide us count of how many times each unique value is missing in the dataset.\n",
    "    </p>\n",
    "</div>"
   ]
  },
  {
   "cell_type": "code",
   "execution_count": 17,
   "id": "9eecb110",
   "metadata": {
    "scrolled": true
   },
   "outputs": [
    {
     "name": "stdout",
     "output_type": "stream",
     "text": [
      "AA5TINW2RJ195: is 4 times missing.\n",
      "A14VAT5EAX3D9S: is 1 times missing.\n",
      "A2RVY2GDMZHH4: is 1 times missing.\n",
      "A3BMYEA3J6RBVV: is 1 times missing.\n",
      "A3NHUK1ISMZCFZ: is 7 times missing.\n",
      "A3NK6WKA7GKRZS: is 1 times missing.\n",
      "A2T8JRVJRVNX8R: is 1 times missing.\n",
      "AKP6IWJ24C1A5: is 5 times missing.\n",
      "AJUXP5GEE2VRP: is 1 times missing.\n",
      "A3MONHA5DCPPLZ: is 1 times missing.\n",
      "A38L9I59GH34O0: is 1 times missing.\n",
      "A1WD8RFNIGRPDH: is 1 times missing.\n",
      "A3GSBNVP2LPFRB: is 1 times missing.\n",
      "A3CVZRPQH1PFQ5: is 1 times missing.\n"
     ]
    }
   ],
   "source": [
    "occurrences_count = Counter(missing_reviewer_names_ids_list)\n",
    "\n",
    "for value, count in occurrences_count.items():\n",
    "    print(f\"{value}: is {count} times missing.\")"
   ]
  },
  {
   "cell_type": "markdown",
   "id": "38550780",
   "metadata": {},
   "source": [
    "<div style=\"position: relative; background-color: #232F3E; border: 2px solid #fff600; border-radius: 2px; padding : 20px; margin: 30px 10px 30px 10px; font-size: 18px; font-weight: normal; font-family: Calibri (Body); text-align: justify; line-height: 30px; letter-spacing: 1px; color: #fff600;\">\n",
    "    <div style=\"position: absolute; top: -20px; left: 15%; transform: translateX(-50%); background-color: #FF9900; padding: 5px 15px; font-weight: bold; font-size: 20px; color: #232F3E;\">&#128221; Note Pad</div>\n",
    "    <p style=\"font-size: 20px; font-weight: normal; font-family: Calibri; text-align: justify; line-height: 30px; letter-spacing: 1px; color: #fff600;\">\n",
    "        As observed, only three unique IDs (<i>'AA5TINW2RJ195'</i> occurring 4 times, <i>'A3NHUK1ISMZCFZ'</i> occurring 7 times, and <i>'AKP6IWJ24C1A5'</i> occurring 5 times) have more than one occurrence in the missing values. To calculate the total number of unique values, we sum these occurrences (<i>4 + 7 + 5 = 16</i>) and subtract it from the total number of missing values (<i>27 - 16 = 11</i>). Further, when we include the occurrences three IDs containing multiple times occurences (<i>11 + 3 = 14</i>), we get the count of 14 unique values in missing. To confirm this analysis, let's check the unique reviewerIDs in the missing_reviewer_names_df dataframe.\n",
    "    </p>\n",
    "</div>"
   ]
  },
  {
   "cell_type": "code",
   "execution_count": 18,
   "id": "a07f0f5b",
   "metadata": {},
   "outputs": [
    {
     "data": {
      "text/plain": [
       "array(['AA5TINW2RJ195', 'A14VAT5EAX3D9S', 'A2RVY2GDMZHH4',\n",
       "       'A3BMYEA3J6RBVV', 'A3NHUK1ISMZCFZ', 'A3NK6WKA7GKRZS',\n",
       "       'A2T8JRVJRVNX8R', 'AKP6IWJ24C1A5', 'AJUXP5GEE2VRP',\n",
       "       'A3MONHA5DCPPLZ', 'A38L9I59GH34O0', 'A1WD8RFNIGRPDH',\n",
       "       'A3GSBNVP2LPFRB', 'A3CVZRPQH1PFQ5'], dtype=object)"
      ]
     },
     "execution_count": 18,
     "metadata": {},
     "output_type": "execute_result"
    }
   ],
   "source": [
    "missing_reviewer_names_ids_unique = missing_reviewer_names_df['reviewerID'].unique()\n",
    "missing_reviewer_names_ids_unique"
   ]
  },
  {
   "cell_type": "code",
   "execution_count": 19,
   "id": "717633e7",
   "metadata": {
    "scrolled": true
   },
   "outputs": [
    {
     "name": "stdout",
     "output_type": "stream",
     "text": [
      "Total unique ID's in missing values: 14\n"
     ]
    }
   ],
   "source": [
    "print(f\"Total unique ID's in missing values: {missing_reviewer_names_ids_unique.size}\")"
   ]
  },
  {
   "cell_type": "code",
   "execution_count": 20,
   "id": "6e30e3c7",
   "metadata": {
    "scrolled": true
   },
   "outputs": [
    {
     "data": {
      "text/plain": [
       "numpy.ndarray"
      ]
     },
     "execution_count": 20,
     "metadata": {},
     "output_type": "execute_result"
    }
   ],
   "source": [
    "type(missing_reviewer_names_ids_unique)"
   ]
  },
  {
   "cell_type": "code",
   "execution_count": 21,
   "id": "4ace4313",
   "metadata": {},
   "outputs": [],
   "source": [
    "non_missing_reviewer_names_df = df.dropna(subset=['reviewerName'])"
   ]
  },
  {
   "cell_type": "code",
   "execution_count": 22,
   "id": "3d5d03e6",
   "metadata": {},
   "outputs": [
    {
     "data": {
      "text/html": [
       "<div>\n",
       "<style scoped>\n",
       "    .dataframe tbody tr th:only-of-type {\n",
       "        vertical-align: middle;\n",
       "    }\n",
       "\n",
       "    .dataframe tbody tr th {\n",
       "        vertical-align: top;\n",
       "    }\n",
       "\n",
       "    .dataframe thead th {\n",
       "        text-align: right;\n",
       "    }\n",
       "</style>\n",
       "<table border=\"1\" class=\"dataframe\">\n",
       "  <thead>\n",
       "    <tr style=\"text-align: right;\">\n",
       "      <th></th>\n",
       "      <th>reviewerID</th>\n",
       "      <th>reviewerName</th>\n",
       "    </tr>\n",
       "  </thead>\n",
       "  <tbody>\n",
       "    <tr>\n",
       "      <th>0</th>\n",
       "      <td>A2IBPI20UZIR0U</td>\n",
       "      <td>cassandra tu \"Yeah, well, that's just like, u...</td>\n",
       "    </tr>\n",
       "    <tr>\n",
       "      <th>1</th>\n",
       "      <td>A14VAT5EAX3D9S</td>\n",
       "      <td>Jake</td>\n",
       "    </tr>\n",
       "    <tr>\n",
       "      <th>2</th>\n",
       "      <td>A195EZSQDW3E21</td>\n",
       "      <td>Rick Bennette \"Rick Bennette\"</td>\n",
       "    </tr>\n",
       "    <tr>\n",
       "      <th>3</th>\n",
       "      <td>A2C00NNG1ZQQG2</td>\n",
       "      <td>RustyBill \"Sunday Rocker\"</td>\n",
       "    </tr>\n",
       "    <tr>\n",
       "      <th>4</th>\n",
       "      <td>A94QU4C90B1AX</td>\n",
       "      <td>SEAN MASLANKA</td>\n",
       "    </tr>\n",
       "  </tbody>\n",
       "</table>\n",
       "</div>"
      ],
      "text/plain": [
       "       reviewerID                                      reviewerName\n",
       "0  A2IBPI20UZIR0U  cassandra tu \"Yeah, well, that's just like, u...\n",
       "1  A14VAT5EAX3D9S                                              Jake\n",
       "2  A195EZSQDW3E21                     Rick Bennette \"Rick Bennette\"\n",
       "3  A2C00NNG1ZQQG2                         RustyBill \"Sunday Rocker\"\n",
       "4   A94QU4C90B1AX                                     SEAN MASLANKA"
      ]
     },
     "execution_count": 22,
     "metadata": {},
     "output_type": "execute_result"
    }
   ],
   "source": [
    "non_missing_reviewer_names_df[['reviewerID', 'reviewerName']].head()"
   ]
  },
  {
   "cell_type": "code",
   "execution_count": 23,
   "id": "568c2e34",
   "metadata": {},
   "outputs": [],
   "source": [
    "non_missing_reviewer_names_ids_list = non_missing_reviewer_names_df['reviewerID'].unique().tolist()"
   ]
  },
  {
   "cell_type": "code",
   "execution_count": 24,
   "id": "5add70da",
   "metadata": {},
   "outputs": [
    {
     "data": {
      "text/plain": [
       "['A2IBPI20UZIR0U',\n",
       " 'A14VAT5EAX3D9S',\n",
       " 'A195EZSQDW3E21',\n",
       " 'A2C00NNG1ZQQG2',\n",
       " 'A94QU4C90B1AX']"
      ]
     },
     "execution_count": 24,
     "metadata": {},
     "output_type": "execute_result"
    }
   ],
   "source": [
    "non_missing_reviewer_names_ids_list[0:5]"
   ]
  },
  {
   "cell_type": "code",
   "execution_count": 25,
   "id": "f4f069a7",
   "metadata": {},
   "outputs": [
    {
     "data": {
      "text/plain": [
       "1428"
      ]
     },
     "execution_count": 25,
     "metadata": {},
     "output_type": "execute_result"
    }
   ],
   "source": [
    "len(non_missing_reviewer_names_ids_list)"
   ]
  },
  {
   "cell_type": "code",
   "execution_count": 26,
   "id": "3af43e21",
   "metadata": {},
   "outputs": [],
   "source": [
    "available_reviewer_names_ids = [id for id in missing_reviewer_names_ids_list if id in non_missing_reviewer_names_ids_list]"
   ]
  },
  {
   "cell_type": "code",
   "execution_count": 27,
   "id": "205e0ff0",
   "metadata": {},
   "outputs": [
    {
     "data": {
      "text/plain": [
       "['AA5TINW2RJ195',\n",
       " 'A14VAT5EAX3D9S',\n",
       " 'A2RVY2GDMZHH4',\n",
       " 'A3BMYEA3J6RBVV',\n",
       " 'AA5TINW2RJ195']"
      ]
     },
     "execution_count": 27,
     "metadata": {},
     "output_type": "execute_result"
    }
   ],
   "source": [
    "available_reviewer_names_ids[0:5]"
   ]
  },
  {
   "cell_type": "code",
   "execution_count": 28,
   "id": "f057b747",
   "metadata": {},
   "outputs": [
    {
     "data": {
      "text/plain": [
       "20"
      ]
     },
     "execution_count": 28,
     "metadata": {},
     "output_type": "execute_result"
    }
   ],
   "source": [
    "len(available_reviewer_names_ids)"
   ]
  },
  {
   "cell_type": "code",
   "execution_count": 29,
   "id": "06e27cd6",
   "metadata": {},
   "outputs": [],
   "source": [
    "names_associated_with_available_ids = non_missing_reviewer_names_df[non_missing_reviewer_names_df['reviewerID'].isin(available_reviewer_names_ids)]['reviewerName'].unique()"
   ]
  },
  {
   "cell_type": "code",
   "execution_count": 30,
   "id": "975f0271",
   "metadata": {},
   "outputs": [
    {
     "data": {
      "text/plain": [
       "array(['Jake', 'johns3620', 'puddytat', 'A Customer', 'Mike N.'],\n",
       "      dtype=object)"
      ]
     },
     "execution_count": 30,
     "metadata": {},
     "output_type": "execute_result"
    }
   ],
   "source": [
    "names_associated_with_available_ids[0:5]"
   ]
  },
  {
   "cell_type": "code",
   "execution_count": 31,
   "id": "375cdb17",
   "metadata": {},
   "outputs": [
    {
     "data": {
      "text/plain": [
       "13"
      ]
     },
     "execution_count": 31,
     "metadata": {},
     "output_type": "execute_result"
    }
   ],
   "source": [
    "len(names_associated_with_available_ids)"
   ]
  },
  {
   "cell_type": "code",
   "execution_count": 32,
   "id": "527a6c84",
   "metadata": {},
   "outputs": [],
   "source": [
    "for reviewer_id, associated_name in zip(available_reviewer_names_ids, names_associated_with_available_ids):\n",
    "    df.loc[df['reviewerID'] == reviewer_id, 'reviewerName'] = associated_name"
   ]
  },
  {
   "cell_type": "code",
   "execution_count": 33,
   "id": "c5e4d1ba",
   "metadata": {},
   "outputs": [
    {
     "data": {
      "text/plain": [
       "reviewerID         0\n",
       "asin               0\n",
       "reviewerName      12\n",
       "helpful            0\n",
       "reviewText         0\n",
       "overall            0\n",
       "summary            0\n",
       "unixReviewTime     0\n",
       "reviewTime         0\n",
       "dtype: int64"
      ]
     },
     "execution_count": 33,
     "metadata": {},
     "output_type": "execute_result"
    }
   ],
   "source": [
    "df.isnull().sum()"
   ]
  },
  {
   "cell_type": "markdown",
   "id": "16c23b0d",
   "metadata": {},
   "source": [
    "<div style=\"position: relative; background-color: #232F3E; border: 2px solid #fff600; border-radius: 2px; padding : 20px; margin: 30px 10px 30px 10px; font-size: 18px; font-weight: normal; font-family: Calibri (Body); text-align: justify; line-height: 30px; letter-spacing: 1px; color: #fff600;\">\n",
    "    <div style=\"position: absolute; top: -20px; left: 15%; transform: translateX(-50%); background-color: #FF9900; padding: 5px 15px; font-weight: bold; font-size: 20px; color: #232F3E;\">&#128221; Note Pad</div>\n",
    "    <p style=\"font-size: 20px; font-weight: normal; font-family: Calibri; text-align: justify; line-height: 30px; letter-spacing: 1px; color: #fff600;\">\n",
    "        We have successfully imputed 20 values, leaving 7 still missing. Let's identify and observe these remaining missing values.\n",
    "    </p>\n",
    "</div>"
   ]
  },
  {
   "cell_type": "code",
   "execution_count": 34,
   "id": "14c5b55a",
   "metadata": {},
   "outputs": [],
   "source": [
    "# Identifying values (names) still missing after imputation.\n",
    "remaining_missing_values = df[df['reviewerName'].isnull()]"
   ]
  },
  {
   "cell_type": "code",
   "execution_count": 35,
   "id": "0039ab3c",
   "metadata": {},
   "outputs": [
    {
     "name": "stdout",
     "output_type": "stream",
     "text": [
      "Remaining missing reviewer IDs: ['A3NHUK1ISMZCFZ' 'A3MONHA5DCPPLZ' 'A38L9I59GH34O0' 'A1WD8RFNIGRPDH'\n",
      " 'A3GSBNVP2LPFRB' 'A3CVZRPQH1PFQ5']\n"
     ]
    }
   ],
   "source": [
    "# Displaying the reviewer IDs for the remaining missing names.\n",
    "print(\"Remaining missing reviewer IDs:\", remaining_missing_values['reviewerID'].unique())"
   ]
  },
  {
   "cell_type": "markdown",
   "id": "b7aa54e4",
   "metadata": {},
   "source": [
    "<div style=\"position: relative; background-color: #232F3E; border: 2px solid #fff600; border-radius: 2px; padding : 20px; margin: 30px 10px 30px 10px; font-size: 18px; font-weight: normal; font-family: Calibri (Body); text-align: justify; line-height: 30px; letter-spacing: 1px; color: #fff600;\">\n",
    "    <div style=\"position: absolute; top: -20px; left: 15%; transform: translateX(-50%); background-color: #FF9900; padding: 5px 15px; font-weight: bold; font-size: 20px; color: #232F3E;\">&#128221; Note Pad</div>\n",
    "    <p style=\"font-size: 20px; font-weight: normal; font-family: Calibri; text-align: justify; line-height: 30px; letter-spacing: 1px; color: #fff600;\">\n",
    "        As observed, there is only one ID, <i>'A3NHUK1ISMZCFZ'</i>, for which the associated name value is still missing. Referring to the list of IDs with missing occurrences, this particular ID was missing 7 times.\n",
    "    </p>\n",
    "    <p style=\"font-size: 20px; font-weight: normal; font-family: Calibri; text-align: justify; line-height: 30px; letter-spacing: 1px; color: #fff600;\">\n",
    "        To address this, we can use the name associated with the most frequently occurring reviewer ID in our entire dataset to impute this missing occurrence. First, we will identify the most frequently repeated reviewer ID and then use the associated name for imputation.\n",
    "    </p>\n",
    "</div>"
   ]
  },
  {
   "cell_type": "code",
   "execution_count": 36,
   "id": "58eeb2fc",
   "metadata": {},
   "outputs": [],
   "source": [
    "most_repeated_id = df['reviewerID'].value_counts().idxmax()"
   ]
  },
  {
   "cell_type": "code",
   "execution_count": 37,
   "id": "c7c41add",
   "metadata": {
    "scrolled": true
   },
   "outputs": [
    {
     "name": "stdout",
     "output_type": "stream",
     "text": [
      "Most repeated ID: ADH0O8UVJOT10\n"
     ]
    }
   ],
   "source": [
    "print(f\"Most repeated ID: {most_repeated_id}\")"
   ]
  },
  {
   "cell_type": "code",
   "execution_count": 38,
   "id": "ab89e530",
   "metadata": {},
   "outputs": [
    {
     "name": "stdout",
     "output_type": "stream",
     "text": [
      "42 time occured.\n"
     ]
    }
   ],
   "source": [
    "target_id = 'ADH0O8UVJOT10'\n",
    "occurrences_count = (df['reviewerID'] == target_id).sum()\n",
    "print(f\"{occurrences_count} time occured.\")"
   ]
  },
  {
   "cell_type": "code",
   "execution_count": 39,
   "id": "59d77792",
   "metadata": {},
   "outputs": [],
   "source": [
    "associated_name = df.loc[df['reviewerID'] == most_repeated_id, 'reviewerName'].iloc[0]"
   ]
  },
  {
   "cell_type": "code",
   "execution_count": 40,
   "id": "072be4c9",
   "metadata": {},
   "outputs": [
    {
     "name": "stdout",
     "output_type": "stream",
     "text": [
      "Associated name: StormJH1\n"
     ]
    }
   ],
   "source": [
    "print(f\"Associated name: {associated_name}\")"
   ]
  },
  {
   "cell_type": "code",
   "execution_count": 41,
   "id": "5f092002",
   "metadata": {},
   "outputs": [],
   "source": [
    "df['reviewerName'] = df['reviewerName'].fillna(associated_name)"
   ]
  },
  {
   "cell_type": "code",
   "execution_count": 42,
   "id": "34e2b302",
   "metadata": {
    "scrolled": true
   },
   "outputs": [
    {
     "data": {
      "text/plain": [
       "reviewerID        0\n",
       "asin              0\n",
       "reviewerName      0\n",
       "helpful           0\n",
       "reviewText        0\n",
       "overall           0\n",
       "summary           0\n",
       "unixReviewTime    0\n",
       "reviewTime        0\n",
       "dtype: int64"
      ]
     },
     "execution_count": 42,
     "metadata": {},
     "output_type": "execute_result"
    }
   ],
   "source": [
    "df.isnull().sum()"
   ]
  },
  {
   "cell_type": "markdown",
   "id": "a5dde462",
   "metadata": {},
   "source": [
    "<div style=\"position: relative; background-color: #232F3E; border: 2px solid #fff600; border-radius: 2px; padding : 20px; margin: 30px 10px 30px 10px; font-size: 18px; font-weight: normal; font-family: Calibri (Body); text-align: justify; line-height: 30px; letter-spacing: 1px; color: #fff600;\">\n",
    "    <div style=\"position: absolute; top: -20px; left: 15%; transform: translateX(-50%); background-color: #FF9900; padding: 5px 15px; font-weight: bold; font-size: 20px; color: #232F3E;\">&#128221; Note Pad</div>\n",
    "    <p style=\"font-size: 20px; font-weight: normal; font-family: Calibri; text-align: justify; line-height: 30px; letter-spacing: 1px; color: #fff600;\">\n",
    "        We have successfully conquered this battle. Now, let me summarize the entire code and explain what I have done. Some aspects of the code remain unexplained, but the following bullet points will cover everything I've implemented.\n",
    "    </p>\n",
    "    <p style=\"font-size: 20px; font-weight: normal; font-family: Calibri; text-align: justify; line-height: 30px; letter-spacing: 1px; color: #fff600;\">\n",
    "        <b style=\"font-size: 22px; font-weight: bold; color: #FF9900;\">👉 Summary:</b>\n",
    "    </p>\n",
    "    <ul style=\"font-size: 20px; font-weight: normal; font-family: Calibri; text-align: justify; line-height: 25px; letter-spacing: 1px; color: #fff600;\">\n",
    "        <li style=\"font-size: 18px; padding-top: 0px; padding-bottom: 10px;\">Extracted and displayed rows with missing reviewer names.</li>\n",
    "        <li style=\"font-size: 18px; padding-top: 0px; padding-bottom: 10px;\">Converted reviewer IDs with missing names into a list.</li>\n",
    "        <li style=\"font-size: 18px; padding-top: 0px; padding-bottom: 10px;\">Utilized the Counter function to count occurrences of each unique ID.</li>\n",
    "        <li style=\"font-size: 18px; padding-top: 0px; padding-bottom: 10px;\">Displayed the unique IDs and their respective missing occurrences.</li>\n",
    "        <li style=\"font-size: 18px; padding-top: 0px; padding-bottom: 10px;\">Calculated the total number of unique missing values and confirmed it.</li>\n",
    "        <li style=\"font-size: 18px; padding-top: 0px; padding-bottom: 10px;\">Extracted and displayed non-missing reviewer names.</li>\n",
    "        <li style=\"font-size: 18px; padding-top: 0px; padding-bottom: 10px;\">Created a list of unique reviewer IDs from non-missing values.</li>\n",
    "        <li style=\"font-size: 18px; padding-top: 0px; padding-bottom: 10px;\">Filtered missing IDs, available in non-missing reviewer IDs list.</li>\n",
    "        <li style=\"font-size: 18px; padding-top: 0px; padding-bottom: 10px;\">Imputed missing values with associated names available in non-missing list.</li>\n",
    "        <li style=\"font-size: 18px; padding-top: 0px; padding-bottom: 10px;\">Checked and printed the count of remaining missing values.</li>\n",
    "        <li style=\"font-size: 18px; padding-top: 0px; padding-bottom: 10px;\">Identified the remaining missing reviewer IDs and displayed them.</li>\n",
    "        <li style=\"font-size: 18px; padding-top: 0px; padding-bottom: 10px;\">Determined the most frequently repeated reviewer ID in the dataset.</li>\n",
    "        <li style=\"font-size: 18px; padding-top: 0px; padding-bottom: 10px;\">Displayed the most repeated ID and its occurrences.</li>\n",
    "        <li style=\"font-size: 18px; padding-top: 0px; padding-bottom: 10px;\">Extracted the associated name for the most repeated reviewer ID.</li>\n",
    "        <li style=\"font-size: 18px; padding-top: 0px; padding-bottom: 10px;\">Imputed the last missing name with the most repeated reviewer's name.</li>\n",
    "        <li style=\"font-size: 18px; padding-top: 0px; padding-bottom: 10px;\">Checked the final count of missing values in 'reviewerName', which is now 0.</li>\n",
    "    </ul>\n",
    "    <p style=\"font-size: 20px; font-weight: normal; font-family: Calibri; text-align: justify; line-height: 30px; letter-spacing: 1px; color: #fff600;\">\n",
    "        And that's all 🤷‍♂️.\n",
    "    </p>\n",
    "</div>"
   ]
  },
  {
   "cell_type": "markdown",
   "id": "35ec059e",
   "metadata": {},
   "source": [
    "<div style=\"border: 1px solid; color: #FF9900;\">\n",
    "    \n",
    "<div style=\"border: 1px solid; color: #FF9900; background-color: #FF9900;\">\n",
    "<h1 style=\"font-size: 26px bold; color: #232F3E; text-align: justify; font-family: Blogger Sans; margin: 10px; border: 5px solid; border-radius: 5px; padding: 15px;\">&#128200; 3. Story Creation and Visualization</h1>\n",
    "</div>\n",
    "    <p style=\"font-size: 18px; color: #131A22; text-align: justify; font-family: Calibri (Body); margin: 10px;\">\n",
    "    Nowadays, companies recieve feedbacks from his customers regarding his products.\n",
    "</p>\n",
    "</div>"
   ]
  },
  {
   "cell_type": "code",
   "execution_count": null,
   "id": "4f98c17e",
   "metadata": {},
   "outputs": [],
   "source": []
  },
  {
   "cell_type": "code",
   "execution_count": null,
   "id": "1f5331e7",
   "metadata": {},
   "outputs": [],
   "source": []
  },
  {
   "cell_type": "markdown",
   "id": "db52f1fd",
   "metadata": {},
   "source": [
    "<div style=\"border: 1px solid; color: #FF9900;\">\n",
    "    \n",
    "<div style=\"border: 1px solid; color: #FF9900; background-color: #FF9900;\">\n",
    "<h1 style=\"font-size: 26px bold; color: #232F3E; text-align: justify; font-family: Blogger Sans; margin: 10px; border: 5px solid; border-radius: 5px; padding: 15px;\">&#128225; 4. Features Extraction</h1>\n",
    "</div>\n",
    "    <p style=\"font-size: 18px; color: #131A22; text-align: justify; font-family: Calibri (Body); margin: 10px;\">\n",
    "    Nowadays, companies recieve feedbacks from his customers regarding his products.\n",
    "</p>\n",
    "</div>"
   ]
  },
  {
   "cell_type": "code",
   "execution_count": null,
   "id": "0681dfa7",
   "metadata": {},
   "outputs": [],
   "source": []
  },
  {
   "cell_type": "markdown",
   "id": "a6be9c88",
   "metadata": {},
   "source": [
    "<div style=\"border: 1px solid; color: #FF9900;\">\n",
    "    \n",
    "<div style=\"border: 1px solid; color: #FF9900; background-color: #FF9900;\">\n",
    "<h1 style=\"font-size: 26px bold; color: #232F3E; text-align: justify; font-family: Blogger Sans; margin: 10px; border: 5px solid; border-radius: 5px; padding: 15px;\">&#129422; 5. Sentiment Analysis</h1>\n",
    "</div>\n",
    "    <p style=\"font-size: 18px; color: #131A22; text-align: justify; font-family: Calibri (Body); margin: 10px;\">\n",
    "    Nowadays, companies recieve feedbacks from his customers regarding his products.\n",
    "    </p>\n",
    "</div>"
   ]
  },
  {
   "cell_type": "markdown",
   "id": "cd224ec3",
   "metadata": {},
   "source": [
    "<h2  style=\"font-size: 20px; color: #146EB4; text-align: justify; font-family: Calibri; margin: 10px;\">\n",
    "    &#128260; Loading Dataset into DataFrame.\n",
    "</h2>"
   ]
  },
  {
   "cell_type": "markdown",
   "id": "2067fb2e",
   "metadata": {},
   "source": [
    "<h2  style=\"font-size: 22px bold; color: #b50061; text-align: justify; font-family: Blogger Sans; margin: 10px; border-bottom: 5px solid; border-radius: 5px; margin-bottom: 20px; padding-bottom: 20px;\" id=\"sentiment-analysis\">\n",
    "    &#129422; 5. Sentiment Analysis\n",
    "</h2>\n",
    "\n",
    "<p style=\"font-size: 18px; color: #00144f; text-align: justify; font-family: Calibri (Body); margin: 10px;\">\n",
    "    Nowadays, companies recieve feedbacks from his customers regarding his products.\n",
    "</p>"
   ]
  },
  {
   "cell_type": "markdown",
   "id": "6cd6dc31",
   "metadata": {},
   "source": [
    "<div style=\"position: relative; background-color: #232F3E; border: 2px solid #fff600; border-radius: 2px; padding : 20px; margin: 30px 10px 30px 10px; font-size: 18px; font-weight: normal; font-family: Calibri (Body); text-align: justify; line-height: 30px; letter-spacing: 1px; color: #fff600;\">\n",
    "    <div style=\"position: absolute; top: -20px; left: 15%; transform: translateX(-50%); background-color: #FF9900; padding: 5px 15px; font-weight: bold; font-size: 20px; color: #232F3E;\">&#128221; Note Pad</div>\n",
    "    <p style=\"font-size: 20px; font-weight: normal; font-family: Calibri; text-align: justify; line-height: 30px; letter-spacing: 1px; color: #fff600;\">\n",
    "        Text...\n",
    "    </p>\n",
    "</div>"
   ]
  },
  {
   "cell_type": "markdown",
   "id": "c59f8333",
   "metadata": {},
   "source": [
    "<div style=\"border: 1px solid; color: #FF9900;\">\n",
    "    \n",
    "<div style=\"border: 1px solid; color: #FF9900; background-color: #FF9900;\">\n",
    "<h1 style=\"font-size: 26px bold; color: #131A22; text-align: justify; font-family: Blogger Sans; margin: 10px; border: 5px solid; border-radius: 5px; padding: 15px;\">&#128200; Design Colors Scheme and Emojis Information</h1>\n",
    "</div>\n",
    "\n",
    "<p style=\"font-size: 18px; color: #131A22; text-align: justify; font-family: Calibri (Body); margin: 10px;\">\n",
    "    I have used some Emojis and Colors for the designing purposes in my project. I have chosen different Emojis from DEV Community[3] website and four standard colors of Amazon's brand from SchemeColor website. References regarding these emojis and colors are properly cited in the last. And the neccessory information regarding Amazon's standard colors are the following:\n",
    "</p>\n",
    "\n",
    "<ol>\n",
    "    <li style=\"font-size: 18px; color: #FF9900; text-align: justify; font-family: Adobe Clean SemiLight; margin: 10px;\">Vivid Gamboge [1]\n",
    "        <ul>\n",
    "            <li>Hex: #FF9900</li>\n",
    "            <li>RGB: (255, 153, 0)</li>\n",
    "            <li>CMYK: 0, 0.4, 1, 0</li>\n",
    "        </ul>\n",
    "    </li>\n",
    "    <li style=\"font-size: 18px; color: #232F3E; text-align: justify; font-family: Adobe Clean SemiLight; margin: 10px;\">Gunmetal [2]\n",
    "        <ul>\n",
    "            <li>Hex: #232F3E</li>\n",
    "            <li>RGB: (35, 47, 62)</li>\n",
    "            <li>CMYK: 0.435, 0.241, 0, 0.756</li>\n",
    "        </ul>\n",
    "    </li>\n",
    "    <li style=\"font-size: 18px; color: #131A22; text-align: justify; font-family: Adobe Clean SemiLight; margin: 10px;\">Eerie Black [2]\n",
    "        <ul>\n",
    "            <li>Hex: #131A22</li>\n",
    "            <li>RGB: (19, 26, 34)</li>\n",
    "            <li>CMYK: 0.441, 0.235, 0, 0.866</li>\n",
    "        </ul>\n",
    "    </li>\n",
    "    <li style=\"font-size: 18px; color: #146EB4; text-align: justify; font-family: Adobe Clean SemiLight; margin: 10px;\">Green-Blue [1]\n",
    "        <ul>\n",
    "            <li>Hex: #146EB4</li>\n",
    "            <li>RGB: (20, 110, 180)</li>\n",
    "            <li>CMYK: 0.888, 0.388, 0, 0.294</li>\n",
    "        </ul>\n",
    "    </li>\n",
    "</ol>\n",
    "\n",
    "<br/>\n",
    "    \n",
    "<b style=\"font-size: 20px; color: #146EB4; text-align: justify; font-family: Blogger Sans; margin: 10px;\">References: </b>\n",
    "<ol>\n",
    "    <li style=\"font-size: 18px; color: #131A22; font-family: Adobe Clean SemiLight; margin: 10px;\">\n",
    "        SchemeColor, \"Amazon Orange and Blue Color Scheme.\" SchemeColor.com. https://www.schemecolor.com/amazon-orange-blue.php. (Accessed: Oct. 29, 2023).\n",
    "    </li>\n",
    "    <li style=\"font-size: 18px; color: #131A22; font-family: Adobe Clean SemiLight; margin: 10px;\">\n",
    "        SchemeColor. \"Amazon Website Color Schemes.\" ShcemeColors.com. https://www.schemecolor.com/amazon-website-colors.php. (Accessed: Oct. 29, 2023).\n",
    "    </li>\n",
    "    <li style=\"font-size: 18px; color: #131A22; font-family: Adobe Clean SemiLight; margin: 10px;\">\n",
    "        R. Odhin, \"List of Emojis HEX/HTML Codes.\" DEV Community (Posted on: Jan. 24, 2022). https://dev.to/rodrigoodhin/list-of-emojis-hex-codes-35ma. (Accessed: Oct. 29, 2023).\n",
    "    </li>\n",
    "    <li style=\"font-size: 18px; color: #131A22; font-family: Adobe Clean SemiLight; margin: 10px;\">\n",
    "        M. Shepperd, \"5.4.1. Data cleaning and imputation\" in CS5702 Modern Data Book, 2023. Available: https://bookdown.org/martin_shepperd/ModernDataBook/C5-Cleaning.html. [Accessed: Jan 17, 2023].\n",
    "    </li>\n",
    "</ol>\n",
    "</div>"
   ]
  }
 ],
 "metadata": {
  "kernelspec": {
   "display_name": "Python 3 (ipykernel)",
   "language": "python",
   "name": "python3"
  },
  "language_info": {
   "codemirror_mode": {
    "name": "ipython",
    "version": 3
   },
   "file_extension": ".py",
   "mimetype": "text/x-python",
   "name": "python",
   "nbconvert_exporter": "python",
   "pygments_lexer": "ipython3",
   "version": "3.11.5"
  }
 },
 "nbformat": 4,
 "nbformat_minor": 5
}
